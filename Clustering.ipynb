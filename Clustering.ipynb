{
  "nbformat": 4,
  "nbformat_minor": 0,
  "metadata": {
    "colab": {
      "name": "Clustering.ipynb",
      "provenance": [],
      "collapsed_sections": [],
      "mount_file_id": "1cfTI0-kQIBN4AddAFFigQLq97hsr-z78",
      "authorship_tag": "ABX9TyNOFdym2l/yWUGL4NDc441F",
      "include_colab_link": true
    },
    "kernelspec": {
      "name": "python3",
      "display_name": "Python 3"
    },
    "language_info": {
      "name": "python"
    }
  },
  "cells": [
    {
      "cell_type": "markdown",
      "metadata": {
        "id": "view-in-github",
        "colab_type": "text"
      },
      "source": [
        "<a href=\"https://colab.research.google.com/github/goktuggokmen/EEM-409-Introduction-to-Machine-Learning-Clustering-Similarity-Python-Assignment/blob/main/Clustering.ipynb\" target=\"_parent\"><img src=\"https://colab.research.google.com/assets/colab-badge.svg\" alt=\"Open In Colab\"/></a>"
      ]
    },
    {
      "cell_type": "code",
      "execution_count": null,
      "metadata": {
        "colab": {
          "base_uri": "https://localhost:8080/"
        },
        "id": "mstsPaQiYHim",
        "outputId": "26dac0db-4bb8-43af-e863-6b47e7586feb"
      },
      "outputs": [
        {
          "output_type": "stream",
          "name": "stdout",
          "text": [
            "Requirement already satisfied: turicreate in /usr/local/lib/python3.7/dist-packages (6.4.1)\n",
            "Requirement already satisfied: pillow>=5.2.0 in /usr/local/lib/python3.7/dist-packages (from turicreate) (7.1.2)\n",
            "Requirement already satisfied: numpy in /usr/local/lib/python3.7/dist-packages (from turicreate) (1.18.5)\n",
            "Requirement already satisfied: decorator>=4.0.9 in /usr/local/lib/python3.7/dist-packages (from turicreate) (4.4.2)\n",
            "Requirement already satisfied: resampy==0.2.1 in /usr/local/lib/python3.7/dist-packages (from turicreate) (0.2.1)\n",
            "Requirement already satisfied: requests>=2.9.1 in /usr/local/lib/python3.7/dist-packages (from turicreate) (2.23.0)\n",
            "Requirement already satisfied: prettytable==0.7.2 in /usr/local/lib/python3.7/dist-packages (from turicreate) (0.7.2)\n",
            "Requirement already satisfied: scipy>=1.1.0 in /usr/local/lib/python3.7/dist-packages (from turicreate) (1.4.1)\n",
            "Requirement already satisfied: six>=1.10.0 in /usr/local/lib/python3.7/dist-packages (from turicreate) (1.15.0)\n",
            "Requirement already satisfied: coremltools==3.3 in /usr/local/lib/python3.7/dist-packages (from turicreate) (3.3)\n",
            "Requirement already satisfied: numba<0.51.0 in /usr/local/lib/python3.7/dist-packages (from turicreate) (0.50.1)\n",
            "Requirement already satisfied: pandas>=0.23.2 in /usr/local/lib/python3.7/dist-packages (from turicreate) (1.1.5)\n",
            "Requirement already satisfied: tensorflow<2.1.0,>=2.0.0 in /usr/local/lib/python3.7/dist-packages (from turicreate) (2.0.4)\n",
            "Requirement already satisfied: protobuf>=3.1.0 in /usr/local/lib/python3.7/dist-packages (from coremltools==3.3->turicreate) (3.17.3)\n",
            "Requirement already satisfied: llvmlite<0.34,>=0.33.0.dev0 in /usr/local/lib/python3.7/dist-packages (from numba<0.51.0->turicreate) (0.33.0)\n",
            "Requirement already satisfied: setuptools in /usr/local/lib/python3.7/dist-packages (from numba<0.51.0->turicreate) (57.4.0)\n",
            "Requirement already satisfied: python-dateutil>=2.7.3 in /usr/local/lib/python3.7/dist-packages (from pandas>=0.23.2->turicreate) (2.8.2)\n",
            "Requirement already satisfied: pytz>=2017.2 in /usr/local/lib/python3.7/dist-packages (from pandas>=0.23.2->turicreate) (2018.9)\n",
            "Requirement already satisfied: idna<3,>=2.5 in /usr/local/lib/python3.7/dist-packages (from requests>=2.9.1->turicreate) (2.10)\n",
            "Requirement already satisfied: urllib3!=1.25.0,!=1.25.1,<1.26,>=1.21.1 in /usr/local/lib/python3.7/dist-packages (from requests>=2.9.1->turicreate) (1.24.3)\n",
            "Requirement already satisfied: certifi>=2017.4.17 in /usr/local/lib/python3.7/dist-packages (from requests>=2.9.1->turicreate) (2021.10.8)\n",
            "Requirement already satisfied: chardet<4,>=3.0.2 in /usr/local/lib/python3.7/dist-packages (from requests>=2.9.1->turicreate) (3.0.4)\n",
            "Requirement already satisfied: wheel>=0.26 in /usr/local/lib/python3.7/dist-packages (from tensorflow<2.1.0,>=2.0.0->turicreate) (0.37.0)\n",
            "Requirement already satisfied: opt-einsum>=2.3.2 in /usr/local/lib/python3.7/dist-packages (from tensorflow<2.1.0,>=2.0.0->turicreate) (3.3.0)\n",
            "Requirement already satisfied: termcolor>=1.1.0 in /usr/local/lib/python3.7/dist-packages (from tensorflow<2.1.0,>=2.0.0->turicreate) (1.1.0)\n",
            "Requirement already satisfied: tensorflow-estimator<2.1.0,>=2.0.0 in /usr/local/lib/python3.7/dist-packages (from tensorflow<2.1.0,>=2.0.0->turicreate) (2.0.1)\n",
            "Requirement already satisfied: tensorboard<2.1.0,>=2.0.0 in /usr/local/lib/python3.7/dist-packages (from tensorflow<2.1.0,>=2.0.0->turicreate) (2.0.2)\n",
            "Requirement already satisfied: h5py<=2.10.0 in /usr/local/lib/python3.7/dist-packages (from tensorflow<2.1.0,>=2.0.0->turicreate) (2.10.0)\n",
            "Requirement already satisfied: absl-py>=0.7.0 in /usr/local/lib/python3.7/dist-packages (from tensorflow<2.1.0,>=2.0.0->turicreate) (0.12.0)\n",
            "Requirement already satisfied: astor>=0.6.0 in /usr/local/lib/python3.7/dist-packages (from tensorflow<2.1.0,>=2.0.0->turicreate) (0.8.1)\n",
            "Requirement already satisfied: gast==0.2.2 in /usr/local/lib/python3.7/dist-packages (from tensorflow<2.1.0,>=2.0.0->turicreate) (0.2.2)\n",
            "Requirement already satisfied: wrapt>=1.11.1 in /usr/local/lib/python3.7/dist-packages (from tensorflow<2.1.0,>=2.0.0->turicreate) (1.13.3)\n",
            "Requirement already satisfied: grpcio>=1.8.6 in /usr/local/lib/python3.7/dist-packages (from tensorflow<2.1.0,>=2.0.0->turicreate) (1.42.0)\n",
            "Requirement already satisfied: google-pasta>=0.1.6 in /usr/local/lib/python3.7/dist-packages (from tensorflow<2.1.0,>=2.0.0->turicreate) (0.2.0)\n",
            "Requirement already satisfied: keras-preprocessing>=1.0.5 in /usr/local/lib/python3.7/dist-packages (from tensorflow<2.1.0,>=2.0.0->turicreate) (1.1.2)\n",
            "Requirement already satisfied: keras-applications>=1.0.8 in /usr/local/lib/python3.7/dist-packages (from tensorflow<2.1.0,>=2.0.0->turicreate) (1.0.8)\n",
            "Requirement already satisfied: google-auth-oauthlib<0.5,>=0.4.1 in /usr/local/lib/python3.7/dist-packages (from tensorboard<2.1.0,>=2.0.0->tensorflow<2.1.0,>=2.0.0->turicreate) (0.4.6)\n",
            "Requirement already satisfied: google-auth<2,>=1.6.3 in /usr/local/lib/python3.7/dist-packages (from tensorboard<2.1.0,>=2.0.0->tensorflow<2.1.0,>=2.0.0->turicreate) (1.35.0)\n",
            "Requirement already satisfied: markdown>=2.6.8 in /usr/local/lib/python3.7/dist-packages (from tensorboard<2.1.0,>=2.0.0->tensorflow<2.1.0,>=2.0.0->turicreate) (3.3.6)\n",
            "Requirement already satisfied: werkzeug>=0.11.15 in /usr/local/lib/python3.7/dist-packages (from tensorboard<2.1.0,>=2.0.0->tensorflow<2.1.0,>=2.0.0->turicreate) (1.0.1)\n",
            "Requirement already satisfied: cachetools<5.0,>=2.0.0 in /usr/local/lib/python3.7/dist-packages (from google-auth<2,>=1.6.3->tensorboard<2.1.0,>=2.0.0->tensorflow<2.1.0,>=2.0.0->turicreate) (4.2.4)\n",
            "Requirement already satisfied: rsa<5,>=3.1.4 in /usr/local/lib/python3.7/dist-packages (from google-auth<2,>=1.6.3->tensorboard<2.1.0,>=2.0.0->tensorflow<2.1.0,>=2.0.0->turicreate) (4.8)\n",
            "Requirement already satisfied: pyasn1-modules>=0.2.1 in /usr/local/lib/python3.7/dist-packages (from google-auth<2,>=1.6.3->tensorboard<2.1.0,>=2.0.0->tensorflow<2.1.0,>=2.0.0->turicreate) (0.2.8)\n",
            "Requirement already satisfied: requests-oauthlib>=0.7.0 in /usr/local/lib/python3.7/dist-packages (from google-auth-oauthlib<0.5,>=0.4.1->tensorboard<2.1.0,>=2.0.0->tensorflow<2.1.0,>=2.0.0->turicreate) (1.3.0)\n",
            "Requirement already satisfied: importlib-metadata>=4.4 in /usr/local/lib/python3.7/dist-packages (from markdown>=2.6.8->tensorboard<2.1.0,>=2.0.0->tensorflow<2.1.0,>=2.0.0->turicreate) (4.8.2)\n",
            "Requirement already satisfied: typing-extensions>=3.6.4 in /usr/local/lib/python3.7/dist-packages (from importlib-metadata>=4.4->markdown>=2.6.8->tensorboard<2.1.0,>=2.0.0->tensorflow<2.1.0,>=2.0.0->turicreate) (3.10.0.2)\n",
            "Requirement already satisfied: zipp>=0.5 in /usr/local/lib/python3.7/dist-packages (from importlib-metadata>=4.4->markdown>=2.6.8->tensorboard<2.1.0,>=2.0.0->tensorflow<2.1.0,>=2.0.0->turicreate) (3.6.0)\n",
            "Requirement already satisfied: pyasn1<0.5.0,>=0.4.6 in /usr/local/lib/python3.7/dist-packages (from pyasn1-modules>=0.2.1->google-auth<2,>=1.6.3->tensorboard<2.1.0,>=2.0.0->tensorflow<2.1.0,>=2.0.0->turicreate) (0.4.8)\n",
            "Requirement already satisfied: oauthlib>=3.0.0 in /usr/local/lib/python3.7/dist-packages (from requests-oauthlib>=0.7.0->google-auth-oauthlib<0.5,>=0.4.1->tensorboard<2.1.0,>=2.0.0->tensorflow<2.1.0,>=2.0.0->turicreate) (3.1.1)\n"
          ]
        }
      ],
      "source": [
        "!pip install turicreate"
      ]
    },
    {
      "cell_type": "code",
      "source": [
        "import turicreate"
      ],
      "metadata": {
        "id": "c6OxhpD5h4DI"
      },
      "execution_count": null,
      "outputs": []
    },
    {
      "cell_type": "markdown",
      "source": [
        "# **1. Load data: Load the shared people_wiki.sframe data and analyze.**"
      ],
      "metadata": {
        "id": "WZ_M3VfamfEB"
      }
    },
    {
      "cell_type": "code",
      "source": [
        "people = turicreate.SFrame('/content/drive/MyDrive/Colab Notebooks/Machine Learning/people_wiki.sframe')"
      ],
      "metadata": {
        "id": "ScZIGIYjiVe3"
      },
      "execution_count": null,
      "outputs": []
    },
    {
      "cell_type": "markdown",
      "source": [
        "**Explore data**"
      ],
      "metadata": {
        "id": "mxtQt_ZB0008"
      }
    },
    {
      "cell_type": "code",
      "source": [
        "people"
      ],
      "metadata": {
        "colab": {
          "base_uri": "https://localhost:8080/",
          "height": 458
        },
        "id": "zWoTsHNcmSJg",
        "outputId": "48c8f43d-6b94-4424-a4e6-3c121c1cfb32"
      },
      "execution_count": null,
      "outputs": [
        {
          "output_type": "execute_result",
          "data": {
            "text/html": [
              "<div style=\"max-height:1000px;max-width:1500px;overflow:auto;\"><table frame=\"box\" rules=\"cols\">\n",
              "    <tr>\n",
              "        <th style=\"padding-left: 1em; padding-right: 1em; text-align: center\">URI</th>\n",
              "        <th style=\"padding-left: 1em; padding-right: 1em; text-align: center\">name</th>\n",
              "        <th style=\"padding-left: 1em; padding-right: 1em; text-align: center\">text</th>\n",
              "    </tr>\n",
              "    <tr>\n",
              "        <td style=\"padding-left: 1em; padding-right: 1em; text-align: center; vertical-align: top\">&lt;http://dbpedia.org/resou<br>rce/Digby_Morrell&gt; ...</td>\n",
              "        <td style=\"padding-left: 1em; padding-right: 1em; text-align: center; vertical-align: top\">Digby Morrell</td>\n",
              "        <td style=\"padding-left: 1em; padding-right: 1em; text-align: center; vertical-align: top\">digby morrell born 10<br>october 1979 is a former ...</td>\n",
              "    </tr>\n",
              "    <tr>\n",
              "        <td style=\"padding-left: 1em; padding-right: 1em; text-align: center; vertical-align: top\">&lt;http://dbpedia.org/resou<br>rce/Alfred_J._Lewy&gt; ...</td>\n",
              "        <td style=\"padding-left: 1em; padding-right: 1em; text-align: center; vertical-align: top\">Alfred J. Lewy</td>\n",
              "        <td style=\"padding-left: 1em; padding-right: 1em; text-align: center; vertical-align: top\">alfred j lewy aka sandy<br>lewy graduated from ...</td>\n",
              "    </tr>\n",
              "    <tr>\n",
              "        <td style=\"padding-left: 1em; padding-right: 1em; text-align: center; vertical-align: top\">&lt;http://dbpedia.org/resou<br>rce/Harpdog_Brown&gt; ...</td>\n",
              "        <td style=\"padding-left: 1em; padding-right: 1em; text-align: center; vertical-align: top\">Harpdog Brown</td>\n",
              "        <td style=\"padding-left: 1em; padding-right: 1em; text-align: center; vertical-align: top\">harpdog brown is a singer<br>and harmonica player who ...</td>\n",
              "    </tr>\n",
              "    <tr>\n",
              "        <td style=\"padding-left: 1em; padding-right: 1em; text-align: center; vertical-align: top\">&lt;http://dbpedia.org/resou<br>rce/Franz_Rottensteiner&gt; ...</td>\n",
              "        <td style=\"padding-left: 1em; padding-right: 1em; text-align: center; vertical-align: top\">Franz Rottensteiner</td>\n",
              "        <td style=\"padding-left: 1em; padding-right: 1em; text-align: center; vertical-align: top\">franz rottensteiner born<br>in waidmannsfeld lower ...</td>\n",
              "    </tr>\n",
              "    <tr>\n",
              "        <td style=\"padding-left: 1em; padding-right: 1em; text-align: center; vertical-align: top\">&lt;http://dbpedia.org/resou<br>rce/G-Enka&gt; ...</td>\n",
              "        <td style=\"padding-left: 1em; padding-right: 1em; text-align: center; vertical-align: top\">G-Enka</td>\n",
              "        <td style=\"padding-left: 1em; padding-right: 1em; text-align: center; vertical-align: top\">henry krvits born 30<br>december 1974 in tallinn ...</td>\n",
              "    </tr>\n",
              "    <tr>\n",
              "        <td style=\"padding-left: 1em; padding-right: 1em; text-align: center; vertical-align: top\">&lt;http://dbpedia.org/resou<br>rce/Sam_Henderson&gt; ...</td>\n",
              "        <td style=\"padding-left: 1em; padding-right: 1em; text-align: center; vertical-align: top\">Sam Henderson</td>\n",
              "        <td style=\"padding-left: 1em; padding-right: 1em; text-align: center; vertical-align: top\">sam henderson born<br>october 18 1969 is an ...</td>\n",
              "    </tr>\n",
              "    <tr>\n",
              "        <td style=\"padding-left: 1em; padding-right: 1em; text-align: center; vertical-align: top\">&lt;http://dbpedia.org/resou<br>rce/Aaron_LaCrate&gt; ...</td>\n",
              "        <td style=\"padding-left: 1em; padding-right: 1em; text-align: center; vertical-align: top\">Aaron LaCrate</td>\n",
              "        <td style=\"padding-left: 1em; padding-right: 1em; text-align: center; vertical-align: top\">aaron lacrate is an<br>american music producer ...</td>\n",
              "    </tr>\n",
              "    <tr>\n",
              "        <td style=\"padding-left: 1em; padding-right: 1em; text-align: center; vertical-align: top\">&lt;http://dbpedia.org/resou<br>rce/Trevor_Ferguson&gt; ...</td>\n",
              "        <td style=\"padding-left: 1em; padding-right: 1em; text-align: center; vertical-align: top\">Trevor Ferguson</td>\n",
              "        <td style=\"padding-left: 1em; padding-right: 1em; text-align: center; vertical-align: top\">trevor ferguson aka john<br>farrow born 11 november ...</td>\n",
              "    </tr>\n",
              "    <tr>\n",
              "        <td style=\"padding-left: 1em; padding-right: 1em; text-align: center; vertical-align: top\">&lt;http://dbpedia.org/resou<br>rce/Grant_Nelson&gt; ...</td>\n",
              "        <td style=\"padding-left: 1em; padding-right: 1em; text-align: center; vertical-align: top\">Grant Nelson</td>\n",
              "        <td style=\"padding-left: 1em; padding-right: 1em; text-align: center; vertical-align: top\">grant nelson born 27<br>april 1971 in london  ...</td>\n",
              "    </tr>\n",
              "    <tr>\n",
              "        <td style=\"padding-left: 1em; padding-right: 1em; text-align: center; vertical-align: top\">&lt;http://dbpedia.org/resou<br>rce/Cathy_Caruth&gt; ...</td>\n",
              "        <td style=\"padding-left: 1em; padding-right: 1em; text-align: center; vertical-align: top\">Cathy Caruth</td>\n",
              "        <td style=\"padding-left: 1em; padding-right: 1em; text-align: center; vertical-align: top\">cathy caruth born 1955 is<br>frank h t rhodes ...</td>\n",
              "    </tr>\n",
              "</table>\n",
              "[59071 rows x 3 columns]<br/>Note: Only the head of the SFrame is printed.<br/>You can use print_rows(num_rows=m, num_columns=n) to print more rows and columns.\n",
              "</div>"
            ],
            "text/plain": [
              "Columns:\n",
              "\tURI\tstr\n",
              "\tname\tstr\n",
              "\ttext\tstr\n",
              "\n",
              "Rows: 59071\n",
              "\n",
              "Data:\n",
              "+-------------------------------+---------------------+\n",
              "|              URI              |         name        |\n",
              "+-------------------------------+---------------------+\n",
              "| <http://dbpedia.org/resour... |    Digby Morrell    |\n",
              "| <http://dbpedia.org/resour... |    Alfred J. Lewy   |\n",
              "| <http://dbpedia.org/resour... |    Harpdog Brown    |\n",
              "| <http://dbpedia.org/resour... | Franz Rottensteiner |\n",
              "| <http://dbpedia.org/resour... |        G-Enka       |\n",
              "| <http://dbpedia.org/resour... |    Sam Henderson    |\n",
              "| <http://dbpedia.org/resour... |    Aaron LaCrate    |\n",
              "| <http://dbpedia.org/resour... |   Trevor Ferguson   |\n",
              "| <http://dbpedia.org/resour... |     Grant Nelson    |\n",
              "| <http://dbpedia.org/resour... |     Cathy Caruth    |\n",
              "+-------------------------------+---------------------+\n",
              "+-------------------------------+\n",
              "|              text             |\n",
              "+-------------------------------+\n",
              "| digby morrell born 10 octo... |\n",
              "| alfred j lewy aka sandy le... |\n",
              "| harpdog brown is a singer ... |\n",
              "| franz rottensteiner born i... |\n",
              "| henry krvits born 30 decem... |\n",
              "| sam henderson born october... |\n",
              "| aaron lacrate is an americ... |\n",
              "| trevor ferguson aka john f... |\n",
              "| grant nelson born 27 april... |\n",
              "| cathy caruth born 1955 is ... |\n",
              "+-------------------------------+\n",
              "[59071 rows x 3 columns]\n",
              "Note: Only the head of the SFrame is printed.\n",
              "You can use print_rows(num_rows=m, num_columns=n) to print more rows and columns."
            ]
          },
          "metadata": {},
          "execution_count": 40
        }
      ]
    },
    {
      "cell_type": "code",
      "source": [
        "elton_john = people[people['name'] == 'Elton John']\n",
        "elton_john"
      ],
      "metadata": {
        "colab": {
          "base_uri": "https://localhost:8080/",
          "height": 127
        },
        "id": "C732IE7EzWyC",
        "outputId": "5a823a88-44b2-40d6-e363-3b4b4c1f355d"
      },
      "execution_count": null,
      "outputs": [
        {
          "output_type": "execute_result",
          "data": {
            "text/html": [
              "<div style=\"max-height:1000px;max-width:1500px;overflow:auto;\"><table frame=\"box\" rules=\"cols\">\n",
              "    <tr>\n",
              "        <th style=\"padding-left: 1em; padding-right: 1em; text-align: center\">URI</th>\n",
              "        <th style=\"padding-left: 1em; padding-right: 1em; text-align: center\">name</th>\n",
              "        <th style=\"padding-left: 1em; padding-right: 1em; text-align: center\">text</th>\n",
              "    </tr>\n",
              "    <tr>\n",
              "        <td style=\"padding-left: 1em; padding-right: 1em; text-align: center; vertical-align: top\">&lt;http://dbpedia.org/resou<br>rce/Elton_John&gt; ...</td>\n",
              "        <td style=\"padding-left: 1em; padding-right: 1em; text-align: center; vertical-align: top\">Elton John</td>\n",
              "        <td style=\"padding-left: 1em; padding-right: 1em; text-align: center; vertical-align: top\">sir elton hercules john<br>cbe born reginald ken ...</td>\n",
              "    </tr>\n",
              "</table>\n",
              "[? rows x 3 columns]<br/>Note: Only the head of the SFrame is printed. This SFrame is lazily evaluated.<br/>You can use sf.materialize() to force materialization.\n",
              "</div>"
            ],
            "text/plain": [
              "Columns:\n",
              "\tURI\tstr\n",
              "\tname\tstr\n",
              "\ttext\tstr\n",
              "\n",
              "Rows: Unknown\n",
              "\n",
              "Data:\n",
              "+-------------------------------+------------+-------------------------------+\n",
              "|              URI              |    name    |              text             |\n",
              "+-------------------------------+------------+-------------------------------+\n",
              "| <http://dbpedia.org/resour... | Elton John | sir elton hercules john cb... |\n",
              "+-------------------------------+------------+-------------------------------+\n",
              "[? rows x 3 columns]\n",
              "Note: Only the head of the SFrame is printed. This SFrame is lazily evaluated.\n",
              "You can use sf.materialize() to force materialization."
            ]
          },
          "metadata": {},
          "execution_count": 41
        }
      ]
    },
    {
      "cell_type": "code",
      "source": [
        "victoria_beckham = people[people['name'] == 'Victoria Beckham']\n",
        "victoria_beckham"
      ],
      "metadata": {
        "colab": {
          "base_uri": "https://localhost:8080/",
          "height": 127
        },
        "id": "rHi3wvAS0E2z",
        "outputId": "f8fdea1d-3dbb-4c48-b785-88dd5344b5c6"
      },
      "execution_count": null,
      "outputs": [
        {
          "output_type": "execute_result",
          "data": {
            "text/html": [
              "<div style=\"max-height:1000px;max-width:1500px;overflow:auto;\"><table frame=\"box\" rules=\"cols\">\n",
              "    <tr>\n",
              "        <th style=\"padding-left: 1em; padding-right: 1em; text-align: center\">URI</th>\n",
              "        <th style=\"padding-left: 1em; padding-right: 1em; text-align: center\">name</th>\n",
              "        <th style=\"padding-left: 1em; padding-right: 1em; text-align: center\">text</th>\n",
              "    </tr>\n",
              "    <tr>\n",
              "        <td style=\"padding-left: 1em; padding-right: 1em; text-align: center; vertical-align: top\">&lt;http://dbpedia.org/resou<br>rce/Victoria_Beckham&gt; ...</td>\n",
              "        <td style=\"padding-left: 1em; padding-right: 1em; text-align: center; vertical-align: top\">Victoria Beckham</td>\n",
              "        <td style=\"padding-left: 1em; padding-right: 1em; text-align: center; vertical-align: top\">victoria caroline beckham<br>ne adams born 17 april ...</td>\n",
              "    </tr>\n",
              "</table>\n",
              "[? rows x 3 columns]<br/>Note: Only the head of the SFrame is printed. This SFrame is lazily evaluated.<br/>You can use sf.materialize() to force materialization.\n",
              "</div>"
            ],
            "text/plain": [
              "Columns:\n",
              "\tURI\tstr\n",
              "\tname\tstr\n",
              "\ttext\tstr\n",
              "\n",
              "Rows: Unknown\n",
              "\n",
              "Data:\n",
              "+-------------------------------+------------------+\n",
              "|              URI              |       name       |\n",
              "+-------------------------------+------------------+\n",
              "| <http://dbpedia.org/resour... | Victoria Beckham |\n",
              "+-------------------------------+------------------+\n",
              "+-------------------------------+\n",
              "|              text             |\n",
              "+-------------------------------+\n",
              "| victoria caroline beckham ... |\n",
              "+-------------------------------+\n",
              "[? rows x 3 columns]\n",
              "Note: Only the head of the SFrame is printed. This SFrame is lazily evaluated.\n",
              "You can use sf.materialize() to force materialization."
            ]
          },
          "metadata": {},
          "execution_count": 42
        }
      ]
    },
    {
      "cell_type": "code",
      "source": [
        "paul_mccartney = people[people['name'] == 'Paul McCartney']\n",
        "paul_mccartney"
      ],
      "metadata": {
        "colab": {
          "base_uri": "https://localhost:8080/",
          "height": 127
        },
        "id": "pYMBLY760NWx",
        "outputId": "f5d0a92e-eb9a-4bf8-e81e-5ed5d1842389"
      },
      "execution_count": null,
      "outputs": [
        {
          "output_type": "execute_result",
          "data": {
            "text/html": [
              "<div style=\"max-height:1000px;max-width:1500px;overflow:auto;\"><table frame=\"box\" rules=\"cols\">\n",
              "    <tr>\n",
              "        <th style=\"padding-left: 1em; padding-right: 1em; text-align: center\">URI</th>\n",
              "        <th style=\"padding-left: 1em; padding-right: 1em; text-align: center\">name</th>\n",
              "        <th style=\"padding-left: 1em; padding-right: 1em; text-align: center\">text</th>\n",
              "    </tr>\n",
              "    <tr>\n",
              "        <td style=\"padding-left: 1em; padding-right: 1em; text-align: center; vertical-align: top\">&lt;http://dbpedia.org/resou<br>rce/Paul_McCartney&gt; ...</td>\n",
              "        <td style=\"padding-left: 1em; padding-right: 1em; text-align: center; vertical-align: top\">Paul McCartney</td>\n",
              "        <td style=\"padding-left: 1em; padding-right: 1em; text-align: center; vertical-align: top\">sir james paul mccartney<br>mbe born 18 june 1942 is ...</td>\n",
              "    </tr>\n",
              "</table>\n",
              "[? rows x 3 columns]<br/>Note: Only the head of the SFrame is printed. This SFrame is lazily evaluated.<br/>You can use sf.materialize() to force materialization.\n",
              "</div>"
            ],
            "text/plain": [
              "Columns:\n",
              "\tURI\tstr\n",
              "\tname\tstr\n",
              "\ttext\tstr\n",
              "\n",
              "Rows: Unknown\n",
              "\n",
              "Data:\n",
              "+-------------------------------+----------------+\n",
              "|              URI              |      name      |\n",
              "+-------------------------------+----------------+\n",
              "| <http://dbpedia.org/resour... | Paul McCartney |\n",
              "+-------------------------------+----------------+\n",
              "+-------------------------------+\n",
              "|              text             |\n",
              "+-------------------------------+\n",
              "| sir james paul mccartney m... |\n",
              "+-------------------------------+\n",
              "[? rows x 3 columns]\n",
              "Note: Only the head of the SFrame is printed. This SFrame is lazily evaluated.\n",
              "You can use sf.materialize() to force materialization."
            ]
          },
          "metadata": {},
          "execution_count": 43
        }
      ]
    },
    {
      "cell_type": "code",
      "source": [
        "elton_john['text']"
      ],
      "metadata": {
        "colab": {
          "base_uri": "https://localhost:8080/"
        },
        "id": "7yZz6yte0Y0R",
        "outputId": "409f701f-8261-46db-a1a0-16ad06e835cc"
      },
      "execution_count": null,
      "outputs": [
        {
          "output_type": "execute_result",
          "data": {
            "text/plain": [
              "dtype: str\n",
              "Rows: ?\n",
              "['sir elton hercules john cbe born reginald kenneth dwight 25 march 1947 is an english singer songwriter composer pianist record producer and occasional actor he has worked with lyricist bernie taupin as his songwriter partner since 1967 they have collaborated on more than 30 albums to datein his fivedecade career elton john has sold more than 300 million records making him one of the bestselling music artists in the world he has more than fifty top 40 hits including seven consecutive no 1 us albums 58 billboard top 40 singles 27 top 10 four no 2 and nine no 1 for 31 consecutive years 19702000 he had at least one song in the billboard hot 100 his single something about the way you look tonightcandle in the wind 1997 sold over 33 million copies worldwide and is the bestselling single of all time he has received six grammy awards five brit awards winning two awards for outstanding contribution to music and the first brits icon in 2013 for his lasting impact on british culture an academy award a golden globe award a tony award a disney legend award and the kennedy center honors in 2004 in 2004 rolling stone ranked him number 49 on its list of 100 influential musicians of the rock and roll era in 2008 billboard ranked him the most successful male solo artist on the billboard hot 100 top alltime artists third overallelton john was inducted into the rock and roll hall of fame in 1994 is an inductee into the songwriters hall of fame and is a fellow of the british academy of songwriters composers and authors having been named a commander of the order of the british empire in 1996 john received a knighthood from elizabeth ii for services to music and charitable services in 1998 john has performed at a number of royal events such as the funeral of princess diana at westminster abbey in 1997 the party at the palace in 2002 and the queens diamond jubilee concert outside buckingham palace in 2012he has been heavily involved in the fight against aids since the late 1980s in 1992 he established the elton john aids foundation and a year later began hosting the annual academy award party which has since become one of the highestprofile oscar parties in the hollywood film industry since its inception the foundation has raised over 200 million john who announced he was bisexual in 1976 and has been openly gay since 1988 entered into a civil partnership with david furnish on 21 december 2005 and after gay marriage became legal in england wed furnish on 21 december 2014 he continues to be a champion for lgbt social movements worldwide and samesex marriage', ... ]"
            ]
          },
          "metadata": {},
          "execution_count": 44
        }
      ]
    },
    {
      "cell_type": "code",
      "source": [
        "victoria_beckham['text']"
      ],
      "metadata": {
        "colab": {
          "base_uri": "https://localhost:8080/"
        },
        "id": "XCNDFgsw0eRh",
        "outputId": "baa1e8ed-a8be-4f2f-bc7b-4485d652a3e1"
      },
      "execution_count": null,
      "outputs": [
        {
          "output_type": "execute_result",
          "data": {
            "text/plain": [
              "dtype: str\n",
              "Rows: ?\n",
              "['victoria caroline beckham ne adams born 17 april 1974 is an english businesswoman fashion designer model and singer in the late 1990s beckham rose to fame with the allfemale pop group spice girls and was dubbed posh spice by the july 1996 issue of the british music magazine top of the pops after the spice girls split she was signed to virgin records and telstar records and had four uk top 10 singles her first release out of your mind reached number 2 in the uk singles chartbeckham has participated in five official documentaries and reality shows about her including being victoria beckham the real beckhams and victoria beckham coming to america she has since made a cameo appearance in an episode of ugly betty and been a guest judge on project runway germanys next topmodel and american idol she is married to david beckham and they have four children as of 2014 the couples joint wealth is estimated at 380 millionin the past decade beckham has become an internationally recognised style icon and fashion designer following highprofile collaborations with other brands she launched an eponymous label in 2008 and a lowerpriced diffusion label in 2011 the victoria beckham label was named designer brand of the year in the uk in 2011 in 2012 the brand was assessed as the star performer in the beckham familys business interests writing in the daily telegraph in 2011 belinda white noted that the transition from wag to fashion designer had been more successful than most had predicted saying she has gathered a significant celebrity following and won over the scathing fashion pack who now clamour for a ticket to her biannual show at new york fashion week', ... ]"
            ]
          },
          "metadata": {},
          "execution_count": 45
        }
      ]
    },
    {
      "cell_type": "code",
      "source": [
        "paul_mccartney['text']"
      ],
      "metadata": {
        "colab": {
          "base_uri": "https://localhost:8080/"
        },
        "id": "x_y5Ccxc0itR",
        "outputId": "3edaa218-2fd5-4793-dcab-0df592640b11"
      },
      "execution_count": null,
      "outputs": [
        {
          "output_type": "execute_result",
          "data": {
            "text/plain": [
              "dtype: str\n",
              "Rows: ?\n",
              "['sir james paul mccartney mbe born 18 june 1942 is an english singer multiinstrumentalist and composer with john lennon george harrison and ringo starr he gained worldwide fame as a member of the beatles one of the most popular and influential acts in the history of rock music his songwriting partnership with lennon is one of the most celebrated of the 20th century after the bands breakup he pursued a solo career and formed wings with his first wife linda and denny lainemccartney has been recognised as one of the most successful composers and performers of all time with 60 gold discs and sales of over 100 million albums and 100 million singles of his work with the beatles and as a solo artist more than 2200 artists have covered his beatles song yesterday more than any other copyrighted song in history wings 1977 release mull of kintyre is one of the alltime bestselling singles in the uk inducted into the rock and roll hall of fame as a solo artist in march 1999 mccartney has written or cowritten 32 songs that have reached number one on the billboard hot 100 and as of 2014 he has sold more than 155 million riaacertified units in the united states mccartney lennon harrison and starr received mbes in 1965 and in 1997 mccartney was knighted for his services to musicmccartney has released an extensive catalogue of songs as a solo artist and has composed classical and electronic music he has taken part in projects to promote international charities related to such subjects as animal rights seal hunting land mines vegetarianism poverty and music education he has married three times and is the father of five children', ... ]"
            ]
          },
          "metadata": {},
          "execution_count": 46
        }
      ]
    },
    {
      "cell_type": "markdown",
      "source": [
        "# **2. Represent the data using word counts and TF-IDF: Use two document representations (word counts and TF-IDF) to represent the data.**"
      ],
      "metadata": {
        "id": "N3M8RGSp1LlC"
      }
    },
    {
      "cell_type": "markdown",
      "source": [
        "**Word counts**"
      ],
      "metadata": {
        "id": "DqsSN60F1fBy"
      }
    },
    {
      "cell_type": "code",
      "source": [
        "people['word_count'] = turicreate.text_analytics.count_words(people['text'])\n",
        "people"
      ],
      "metadata": {
        "colab": {
          "base_uri": "https://localhost:8080/",
          "height": 458
        },
        "id": "N-8kvEAf1OSq",
        "outputId": "4891364c-eb41-4f86-949a-df1ca80e8ba7"
      },
      "execution_count": null,
      "outputs": [
        {
          "output_type": "execute_result",
          "data": {
            "text/html": [
              "<div style=\"max-height:1000px;max-width:1500px;overflow:auto;\"><table frame=\"box\" rules=\"cols\">\n",
              "    <tr>\n",
              "        <th style=\"padding-left: 1em; padding-right: 1em; text-align: center\">URI</th>\n",
              "        <th style=\"padding-left: 1em; padding-right: 1em; text-align: center\">name</th>\n",
              "        <th style=\"padding-left: 1em; padding-right: 1em; text-align: center\">text</th>\n",
              "        <th style=\"padding-left: 1em; padding-right: 1em; text-align: center\">word_count</th>\n",
              "    </tr>\n",
              "    <tr>\n",
              "        <td style=\"padding-left: 1em; padding-right: 1em; text-align: center; vertical-align: top\">&lt;http://dbpedia.org/resou<br>rce/Digby_Morrell&gt; ...</td>\n",
              "        <td style=\"padding-left: 1em; padding-right: 1em; text-align: center; vertical-align: top\">Digby Morrell</td>\n",
              "        <td style=\"padding-left: 1em; padding-right: 1em; text-align: center; vertical-align: top\">digby morrell born 10<br>october 1979 is a former ...</td>\n",
              "        <td style=\"padding-left: 1em; padding-right: 1em; text-align: center; vertical-align: top\">{&#x27;melbourne&#x27;: 1.0,<br>&#x27;parade&#x27;: 1.0, ...</td>\n",
              "    </tr>\n",
              "    <tr>\n",
              "        <td style=\"padding-left: 1em; padding-right: 1em; text-align: center; vertical-align: top\">&lt;http://dbpedia.org/resou<br>rce/Alfred_J._Lewy&gt; ...</td>\n",
              "        <td style=\"padding-left: 1em; padding-right: 1em; text-align: center; vertical-align: top\">Alfred J. Lewy</td>\n",
              "        <td style=\"padding-left: 1em; padding-right: 1em; text-align: center; vertical-align: top\">alfred j lewy aka sandy<br>lewy graduated from ...</td>\n",
              "        <td style=\"padding-left: 1em; padding-right: 1em; text-align: center; vertical-align: top\">{&#x27;time&#x27;: 1.0, &#x27;each&#x27;:<br>1.0, &#x27;hour&#x27;: 1.0, ...</td>\n",
              "    </tr>\n",
              "    <tr>\n",
              "        <td style=\"padding-left: 1em; padding-right: 1em; text-align: center; vertical-align: top\">&lt;http://dbpedia.org/resou<br>rce/Harpdog_Brown&gt; ...</td>\n",
              "        <td style=\"padding-left: 1em; padding-right: 1em; text-align: center; vertical-align: top\">Harpdog Brown</td>\n",
              "        <td style=\"padding-left: 1em; padding-right: 1em; text-align: center; vertical-align: top\">harpdog brown is a singer<br>and harmonica player who ...</td>\n",
              "        <td style=\"padding-left: 1em; padding-right: 1em; text-align: center; vertical-align: top\">{&#x27;society&#x27;: 1.0,<br>&#x27;hamilton&#x27;: 1.0, &#x27;to&#x27;: ...</td>\n",
              "    </tr>\n",
              "    <tr>\n",
              "        <td style=\"padding-left: 1em; padding-right: 1em; text-align: center; vertical-align: top\">&lt;http://dbpedia.org/resou<br>rce/Franz_Rottensteiner&gt; ...</td>\n",
              "        <td style=\"padding-left: 1em; padding-right: 1em; text-align: center; vertical-align: top\">Franz Rottensteiner</td>\n",
              "        <td style=\"padding-left: 1em; padding-right: 1em; text-align: center; vertical-align: top\">franz rottensteiner born<br>in waidmannsfeld lower ...</td>\n",
              "        <td style=\"padding-left: 1em; padding-right: 1em; text-align: center; vertical-align: top\">{&#x27;kurdlawitzpreis&#x27;: 1.0,<br>&#x27;awarded&#x27;: 1.0, &#x27;2004&#x27;: ...</td>\n",
              "    </tr>\n",
              "    <tr>\n",
              "        <td style=\"padding-left: 1em; padding-right: 1em; text-align: center; vertical-align: top\">&lt;http://dbpedia.org/resou<br>rce/G-Enka&gt; ...</td>\n",
              "        <td style=\"padding-left: 1em; padding-right: 1em; text-align: center; vertical-align: top\">G-Enka</td>\n",
              "        <td style=\"padding-left: 1em; padding-right: 1em; text-align: center; vertical-align: top\">henry krvits born 30<br>december 1974 in tallinn ...</td>\n",
              "        <td style=\"padding-left: 1em; padding-right: 1em; text-align: center; vertical-align: top\">{&#x27;curtis&#x27;: 1.0, &#x27;2007&#x27;:<br>1.0, &#x27;cent&#x27;: 1.0, ...</td>\n",
              "    </tr>\n",
              "    <tr>\n",
              "        <td style=\"padding-left: 1em; padding-right: 1em; text-align: center; vertical-align: top\">&lt;http://dbpedia.org/resou<br>rce/Sam_Henderson&gt; ...</td>\n",
              "        <td style=\"padding-left: 1em; padding-right: 1em; text-align: center; vertical-align: top\">Sam Henderson</td>\n",
              "        <td style=\"padding-left: 1em; padding-right: 1em; text-align: center; vertical-align: top\">sam henderson born<br>october 18 1969 is an ...</td>\n",
              "        <td style=\"padding-left: 1em; padding-right: 1em; text-align: center; vertical-align: top\">{&#x27;asses&#x27;: 1.0, &#x27;sic&#x27;:<br>1.0, &#x27;toilets&#x27;: 1.0, ...</td>\n",
              "    </tr>\n",
              "    <tr>\n",
              "        <td style=\"padding-left: 1em; padding-right: 1em; text-align: center; vertical-align: top\">&lt;http://dbpedia.org/resou<br>rce/Aaron_LaCrate&gt; ...</td>\n",
              "        <td style=\"padding-left: 1em; padding-right: 1em; text-align: center; vertical-align: top\">Aaron LaCrate</td>\n",
              "        <td style=\"padding-left: 1em; padding-right: 1em; text-align: center; vertical-align: top\">aaron lacrate is an<br>american music producer ...</td>\n",
              "        <td style=\"padding-left: 1em; padding-right: 1em; text-align: center; vertical-align: top\">{&#x27;streamz&#x27;: 1.0,<br>&#x27;including&#x27;: 1.0, ...</td>\n",
              "    </tr>\n",
              "    <tr>\n",
              "        <td style=\"padding-left: 1em; padding-right: 1em; text-align: center; vertical-align: top\">&lt;http://dbpedia.org/resou<br>rce/Trevor_Ferguson&gt; ...</td>\n",
              "        <td style=\"padding-left: 1em; padding-right: 1em; text-align: center; vertical-align: top\">Trevor Ferguson</td>\n",
              "        <td style=\"padding-left: 1em; padding-right: 1em; text-align: center; vertical-align: top\">trevor ferguson aka john<br>farrow born 11 november ...</td>\n",
              "        <td style=\"padding-left: 1em; padding-right: 1em; text-align: center; vertical-align: top\">{&#x27;concordia&#x27;: 1.0,<br>&#x27;creative&#x27;: 1.0, ...</td>\n",
              "    </tr>\n",
              "    <tr>\n",
              "        <td style=\"padding-left: 1em; padding-right: 1em; text-align: center; vertical-align: top\">&lt;http://dbpedia.org/resou<br>rce/Grant_Nelson&gt; ...</td>\n",
              "        <td style=\"padding-left: 1em; padding-right: 1em; text-align: center; vertical-align: top\">Grant Nelson</td>\n",
              "        <td style=\"padding-left: 1em; padding-right: 1em; text-align: center; vertical-align: top\">grant nelson born 27<br>april 1971 in london  ...</td>\n",
              "        <td style=\"padding-left: 1em; padding-right: 1em; text-align: center; vertical-align: top\">{&#x27;heavies&#x27;: 1.0, &#x27;new&#x27;:<br>1.0, &#x27;brand&#x27;: 1.0, ...</td>\n",
              "    </tr>\n",
              "    <tr>\n",
              "        <td style=\"padding-left: 1em; padding-right: 1em; text-align: center; vertical-align: top\">&lt;http://dbpedia.org/resou<br>rce/Cathy_Caruth&gt; ...</td>\n",
              "        <td style=\"padding-left: 1em; padding-right: 1em; text-align: center; vertical-align: top\">Cathy Caruth</td>\n",
              "        <td style=\"padding-left: 1em; padding-right: 1em; text-align: center; vertical-align: top\">cathy caruth born 1955 is<br>frank h t rhodes ...</td>\n",
              "        <td style=\"padding-left: 1em; padding-right: 1em; text-align: center; vertical-align: top\">{&#x27;2002&#x27;: 1.0, &#x27;harvard&#x27;:<br>1.0, &#x27;twentieth&#x27;: 1.0, ...</td>\n",
              "    </tr>\n",
              "</table>\n",
              "[59071 rows x 4 columns]<br/>Note: Only the head of the SFrame is printed.<br/>You can use print_rows(num_rows=m, num_columns=n) to print more rows and columns.\n",
              "</div>"
            ],
            "text/plain": [
              "Columns:\n",
              "\tURI\tstr\n",
              "\tname\tstr\n",
              "\ttext\tstr\n",
              "\tword_count\tdict\n",
              "\n",
              "Rows: 59071\n",
              "\n",
              "Data:\n",
              "+-------------------------------+---------------------+\n",
              "|              URI              |         name        |\n",
              "+-------------------------------+---------------------+\n",
              "| <http://dbpedia.org/resour... |    Digby Morrell    |\n",
              "| <http://dbpedia.org/resour... |    Alfred J. Lewy   |\n",
              "| <http://dbpedia.org/resour... |    Harpdog Brown    |\n",
              "| <http://dbpedia.org/resour... | Franz Rottensteiner |\n",
              "| <http://dbpedia.org/resour... |        G-Enka       |\n",
              "| <http://dbpedia.org/resour... |    Sam Henderson    |\n",
              "| <http://dbpedia.org/resour... |    Aaron LaCrate    |\n",
              "| <http://dbpedia.org/resour... |   Trevor Ferguson   |\n",
              "| <http://dbpedia.org/resour... |     Grant Nelson    |\n",
              "| <http://dbpedia.org/resour... |     Cathy Caruth    |\n",
              "+-------------------------------+---------------------+\n",
              "+-------------------------------+-------------------------------+\n",
              "|              text             |           word_count          |\n",
              "+-------------------------------+-------------------------------+\n",
              "| digby morrell born 10 octo... | {'melbourne': 1.0, 'parade... |\n",
              "| alfred j lewy aka sandy le... | {'time': 1.0, 'each': 1.0,... |\n",
              "| harpdog brown is a singer ... | {'society': 1.0, 'hamilton... |\n",
              "| franz rottensteiner born i... | {'kurdlawitzpreis': 1.0, '... |\n",
              "| henry krvits born 30 decem... | {'curtis': 1.0, '2007': 1.... |\n",
              "| sam henderson born october... | {'asses': 1.0, 'sic': 1.0,... |\n",
              "| aaron lacrate is an americ... | {'streamz': 1.0, 'includin... |\n",
              "| trevor ferguson aka john f... | {'concordia': 1.0, 'creati... |\n",
              "| grant nelson born 27 april... | {'heavies': 1.0, 'new': 1.... |\n",
              "| cathy caruth born 1955 is ... | {'2002': 1.0, 'harvard': 1... |\n",
              "+-------------------------------+-------------------------------+\n",
              "[59071 rows x 4 columns]\n",
              "Note: Only the head of the SFrame is printed.\n",
              "You can use print_rows(num_rows=m, num_columns=n) to print more rows and columns."
            ]
          },
          "metadata": {},
          "execution_count": 47
        }
      ]
    },
    {
      "cell_type": "markdown",
      "source": [
        "**TF-IDF**"
      ],
      "metadata": {
        "id": "qFQeLfFH4GfC"
      }
    },
    {
      "cell_type": "code",
      "source": [
        "people['tfidf'] = turicreate.text_analytics.tf_idf(people['text'])\n",
        "people"
      ],
      "metadata": {
        "colab": {
          "base_uri": "https://localhost:8080/",
          "height": 846
        },
        "id": "xos57WCm4In_",
        "outputId": "1a385dbd-63b5-4169-e739-eebc16e68602"
      },
      "execution_count": null,
      "outputs": [
        {
          "output_type": "execute_result",
          "data": {
            "text/html": [
              "<div style=\"max-height:1000px;max-width:1500px;overflow:auto;\"><table frame=\"box\" rules=\"cols\">\n",
              "    <tr>\n",
              "        <th style=\"padding-left: 1em; padding-right: 1em; text-align: center\">URI</th>\n",
              "        <th style=\"padding-left: 1em; padding-right: 1em; text-align: center\">name</th>\n",
              "        <th style=\"padding-left: 1em; padding-right: 1em; text-align: center\">text</th>\n",
              "        <th style=\"padding-left: 1em; padding-right: 1em; text-align: center\">word_count</th>\n",
              "    </tr>\n",
              "    <tr>\n",
              "        <td style=\"padding-left: 1em; padding-right: 1em; text-align: center; vertical-align: top\">&lt;http://dbpedia.org/resou<br>rce/Digby_Morrell&gt; ...</td>\n",
              "        <td style=\"padding-left: 1em; padding-right: 1em; text-align: center; vertical-align: top\">Digby Morrell</td>\n",
              "        <td style=\"padding-left: 1em; padding-right: 1em; text-align: center; vertical-align: top\">digby morrell born 10<br>october 1979 is a former ...</td>\n",
              "        <td style=\"padding-left: 1em; padding-right: 1em; text-align: center; vertical-align: top\">{&#x27;melbourne&#x27;: 1.0,<br>&#x27;parade&#x27;: 1.0, ...</td>\n",
              "    </tr>\n",
              "    <tr>\n",
              "        <td style=\"padding-left: 1em; padding-right: 1em; text-align: center; vertical-align: top\">&lt;http://dbpedia.org/resou<br>rce/Alfred_J._Lewy&gt; ...</td>\n",
              "        <td style=\"padding-left: 1em; padding-right: 1em; text-align: center; vertical-align: top\">Alfred J. Lewy</td>\n",
              "        <td style=\"padding-left: 1em; padding-right: 1em; text-align: center; vertical-align: top\">alfred j lewy aka sandy<br>lewy graduated from ...</td>\n",
              "        <td style=\"padding-left: 1em; padding-right: 1em; text-align: center; vertical-align: top\">{&#x27;time&#x27;: 1.0, &#x27;each&#x27;:<br>1.0, &#x27;hour&#x27;: 1.0, ...</td>\n",
              "    </tr>\n",
              "    <tr>\n",
              "        <td style=\"padding-left: 1em; padding-right: 1em; text-align: center; vertical-align: top\">&lt;http://dbpedia.org/resou<br>rce/Harpdog_Brown&gt; ...</td>\n",
              "        <td style=\"padding-left: 1em; padding-right: 1em; text-align: center; vertical-align: top\">Harpdog Brown</td>\n",
              "        <td style=\"padding-left: 1em; padding-right: 1em; text-align: center; vertical-align: top\">harpdog brown is a singer<br>and harmonica player who ...</td>\n",
              "        <td style=\"padding-left: 1em; padding-right: 1em; text-align: center; vertical-align: top\">{&#x27;society&#x27;: 1.0,<br>&#x27;hamilton&#x27;: 1.0, &#x27;to&#x27;: ...</td>\n",
              "    </tr>\n",
              "    <tr>\n",
              "        <td style=\"padding-left: 1em; padding-right: 1em; text-align: center; vertical-align: top\">&lt;http://dbpedia.org/resou<br>rce/Franz_Rottensteiner&gt; ...</td>\n",
              "        <td style=\"padding-left: 1em; padding-right: 1em; text-align: center; vertical-align: top\">Franz Rottensteiner</td>\n",
              "        <td style=\"padding-left: 1em; padding-right: 1em; text-align: center; vertical-align: top\">franz rottensteiner born<br>in waidmannsfeld lower ...</td>\n",
              "        <td style=\"padding-left: 1em; padding-right: 1em; text-align: center; vertical-align: top\">{&#x27;kurdlawitzpreis&#x27;: 1.0,<br>&#x27;awarded&#x27;: 1.0, &#x27;2004&#x27;: ...</td>\n",
              "    </tr>\n",
              "    <tr>\n",
              "        <td style=\"padding-left: 1em; padding-right: 1em; text-align: center; vertical-align: top\">&lt;http://dbpedia.org/resou<br>rce/G-Enka&gt; ...</td>\n",
              "        <td style=\"padding-left: 1em; padding-right: 1em; text-align: center; vertical-align: top\">G-Enka</td>\n",
              "        <td style=\"padding-left: 1em; padding-right: 1em; text-align: center; vertical-align: top\">henry krvits born 30<br>december 1974 in tallinn ...</td>\n",
              "        <td style=\"padding-left: 1em; padding-right: 1em; text-align: center; vertical-align: top\">{&#x27;curtis&#x27;: 1.0, &#x27;2007&#x27;:<br>1.0, &#x27;cent&#x27;: 1.0, ...</td>\n",
              "    </tr>\n",
              "    <tr>\n",
              "        <td style=\"padding-left: 1em; padding-right: 1em; text-align: center; vertical-align: top\">&lt;http://dbpedia.org/resou<br>rce/Sam_Henderson&gt; ...</td>\n",
              "        <td style=\"padding-left: 1em; padding-right: 1em; text-align: center; vertical-align: top\">Sam Henderson</td>\n",
              "        <td style=\"padding-left: 1em; padding-right: 1em; text-align: center; vertical-align: top\">sam henderson born<br>october 18 1969 is an ...</td>\n",
              "        <td style=\"padding-left: 1em; padding-right: 1em; text-align: center; vertical-align: top\">{&#x27;asses&#x27;: 1.0, &#x27;sic&#x27;:<br>1.0, &#x27;toilets&#x27;: 1.0, ...</td>\n",
              "    </tr>\n",
              "    <tr>\n",
              "        <td style=\"padding-left: 1em; padding-right: 1em; text-align: center; vertical-align: top\">&lt;http://dbpedia.org/resou<br>rce/Aaron_LaCrate&gt; ...</td>\n",
              "        <td style=\"padding-left: 1em; padding-right: 1em; text-align: center; vertical-align: top\">Aaron LaCrate</td>\n",
              "        <td style=\"padding-left: 1em; padding-right: 1em; text-align: center; vertical-align: top\">aaron lacrate is an<br>american music producer ...</td>\n",
              "        <td style=\"padding-left: 1em; padding-right: 1em; text-align: center; vertical-align: top\">{&#x27;streamz&#x27;: 1.0,<br>&#x27;including&#x27;: 1.0, ...</td>\n",
              "    </tr>\n",
              "    <tr>\n",
              "        <td style=\"padding-left: 1em; padding-right: 1em; text-align: center; vertical-align: top\">&lt;http://dbpedia.org/resou<br>rce/Trevor_Ferguson&gt; ...</td>\n",
              "        <td style=\"padding-left: 1em; padding-right: 1em; text-align: center; vertical-align: top\">Trevor Ferguson</td>\n",
              "        <td style=\"padding-left: 1em; padding-right: 1em; text-align: center; vertical-align: top\">trevor ferguson aka john<br>farrow born 11 november ...</td>\n",
              "        <td style=\"padding-left: 1em; padding-right: 1em; text-align: center; vertical-align: top\">{&#x27;concordia&#x27;: 1.0,<br>&#x27;creative&#x27;: 1.0, ...</td>\n",
              "    </tr>\n",
              "    <tr>\n",
              "        <td style=\"padding-left: 1em; padding-right: 1em; text-align: center; vertical-align: top\">&lt;http://dbpedia.org/resou<br>rce/Grant_Nelson&gt; ...</td>\n",
              "        <td style=\"padding-left: 1em; padding-right: 1em; text-align: center; vertical-align: top\">Grant Nelson</td>\n",
              "        <td style=\"padding-left: 1em; padding-right: 1em; text-align: center; vertical-align: top\">grant nelson born 27<br>april 1971 in london  ...</td>\n",
              "        <td style=\"padding-left: 1em; padding-right: 1em; text-align: center; vertical-align: top\">{&#x27;heavies&#x27;: 1.0, &#x27;new&#x27;:<br>1.0, &#x27;brand&#x27;: 1.0, ...</td>\n",
              "    </tr>\n",
              "    <tr>\n",
              "        <td style=\"padding-left: 1em; padding-right: 1em; text-align: center; vertical-align: top\">&lt;http://dbpedia.org/resou<br>rce/Cathy_Caruth&gt; ...</td>\n",
              "        <td style=\"padding-left: 1em; padding-right: 1em; text-align: center; vertical-align: top\">Cathy Caruth</td>\n",
              "        <td style=\"padding-left: 1em; padding-right: 1em; text-align: center; vertical-align: top\">cathy caruth born 1955 is<br>frank h t rhodes ...</td>\n",
              "        <td style=\"padding-left: 1em; padding-right: 1em; text-align: center; vertical-align: top\">{&#x27;2002&#x27;: 1.0, &#x27;harvard&#x27;:<br>1.0, &#x27;twentieth&#x27;: 1.0, ...</td>\n",
              "    </tr>\n",
              "</table>\n",
              "<table frame=\"box\" rules=\"cols\">\n",
              "    <tr>\n",
              "        <th style=\"padding-left: 1em; padding-right: 1em; text-align: center\">tfidf</th>\n",
              "    </tr>\n",
              "    <tr>\n",
              "        <td style=\"padding-left: 1em; padding-right: 1em; text-align: center; vertical-align: top\">{&#x27;melbourne&#x27;:<br>3.8914310119380633, ...</td>\n",
              "    </tr>\n",
              "    <tr>\n",
              "        <td style=\"padding-left: 1em; padding-right: 1em; text-align: center; vertical-align: top\">{&#x27;time&#x27;:<br>1.3253342074200498, ...</td>\n",
              "    </tr>\n",
              "    <tr>\n",
              "        <td style=\"padding-left: 1em; padding-right: 1em; text-align: center; vertical-align: top\">{&#x27;society&#x27;:<br>2.4448047262085693, ...</td>\n",
              "    </tr>\n",
              "    <tr>\n",
              "        <td style=\"padding-left: 1em; padding-right: 1em; text-align: center; vertical-align: top\">{&#x27;kurdlawitzpreis&#x27;:<br>10.986495389225194, ...</td>\n",
              "    </tr>\n",
              "    <tr>\n",
              "        <td style=\"padding-left: 1em; padding-right: 1em; text-align: center; vertical-align: top\">{&#x27;curtis&#x27;:<br>5.299520032885375, ...</td>\n",
              "    </tr>\n",
              "    <tr>\n",
              "        <td style=\"padding-left: 1em; padding-right: 1em; text-align: center; vertical-align: top\">{&#x27;asses&#x27;:<br>9.600201028105303, &#x27;s ...</td>\n",
              "    </tr>\n",
              "    <tr>\n",
              "        <td style=\"padding-left: 1em; padding-right: 1em; text-align: center; vertical-align: top\">{&#x27;streamz&#x27;:<br>10.986495389225194, ...</td>\n",
              "    </tr>\n",
              "    <tr>\n",
              "        <td style=\"padding-left: 1em; padding-right: 1em; text-align: center; vertical-align: top\">{&#x27;concordia&#x27;:<br>6.250296940830698, ...</td>\n",
              "    </tr>\n",
              "    <tr>\n",
              "        <td style=\"padding-left: 1em; padding-right: 1em; text-align: center; vertical-align: top\">{&#x27;heavies&#x27;:<br>8.907053847545358, &#x27;n ...</td>\n",
              "    </tr>\n",
              "    <tr>\n",
              "        <td style=\"padding-left: 1em; padding-right: 1em; text-align: center; vertical-align: top\">{&#x27;2002&#x27;:<br>1.8753125887822302, ...</td>\n",
              "    </tr>\n",
              "</table>\n",
              "[59071 rows x 5 columns]<br/>Note: Only the head of the SFrame is printed.<br/>You can use print_rows(num_rows=m, num_columns=n) to print more rows and columns.\n",
              "</div>"
            ],
            "text/plain": [
              "Columns:\n",
              "\tURI\tstr\n",
              "\tname\tstr\n",
              "\ttext\tstr\n",
              "\tword_count\tdict\n",
              "\ttfidf\tdict\n",
              "\n",
              "Rows: 59071\n",
              "\n",
              "Data:\n",
              "+-------------------------------+---------------------+\n",
              "|              URI              |         name        |\n",
              "+-------------------------------+---------------------+\n",
              "| <http://dbpedia.org/resour... |    Digby Morrell    |\n",
              "| <http://dbpedia.org/resour... |    Alfred J. Lewy   |\n",
              "| <http://dbpedia.org/resour... |    Harpdog Brown    |\n",
              "| <http://dbpedia.org/resour... | Franz Rottensteiner |\n",
              "| <http://dbpedia.org/resour... |        G-Enka       |\n",
              "| <http://dbpedia.org/resour... |    Sam Henderson    |\n",
              "| <http://dbpedia.org/resour... |    Aaron LaCrate    |\n",
              "| <http://dbpedia.org/resour... |   Trevor Ferguson   |\n",
              "| <http://dbpedia.org/resour... |     Grant Nelson    |\n",
              "| <http://dbpedia.org/resour... |     Cathy Caruth    |\n",
              "+-------------------------------+---------------------+\n",
              "+-------------------------------+-------------------------------+\n",
              "|              text             |           word_count          |\n",
              "+-------------------------------+-------------------------------+\n",
              "| digby morrell born 10 octo... | {'melbourne': 1.0, 'parade... |\n",
              "| alfred j lewy aka sandy le... | {'time': 1.0, 'each': 1.0,... |\n",
              "| harpdog brown is a singer ... | {'society': 1.0, 'hamilton... |\n",
              "| franz rottensteiner born i... | {'kurdlawitzpreis': 1.0, '... |\n",
              "| henry krvits born 30 decem... | {'curtis': 1.0, '2007': 1.... |\n",
              "| sam henderson born october... | {'asses': 1.0, 'sic': 1.0,... |\n",
              "| aaron lacrate is an americ... | {'streamz': 1.0, 'includin... |\n",
              "| trevor ferguson aka john f... | {'concordia': 1.0, 'creati... |\n",
              "| grant nelson born 27 april... | {'heavies': 1.0, 'new': 1.... |\n",
              "| cathy caruth born 1955 is ... | {'2002': 1.0, 'harvard': 1... |\n",
              "+-------------------------------+-------------------------------+\n",
              "+-------------------------------+\n",
              "|             tfidf             |\n",
              "+-------------------------------+\n",
              "| {'melbourne': 3.8914310119... |\n",
              "| {'time': 1.325334207420049... |\n",
              "| {'society': 2.444804726208... |\n",
              "| {'kurdlawitzpreis': 10.986... |\n",
              "| {'curtis': 5.2995200328853... |\n",
              "| {'asses': 9.60020102810530... |\n",
              "| {'streamz': 10.98649538922... |\n",
              "| {'concordia': 6.2502969408... |\n",
              "| {'heavies': 8.907053847545... |\n",
              "| {'2002': 1.875312588782230... |\n",
              "+-------------------------------+\n",
              "[59071 rows x 5 columns]\n",
              "Note: Only the head of the SFrame is printed.\n",
              "You can use print_rows(num_rows=m, num_columns=n) to print more rows and columns."
            ]
          },
          "metadata": {},
          "execution_count": 48
        }
      ]
    },
    {
      "cell_type": "markdown",
      "source": [
        "# **3. Compare top words according to word counts to TF-IDF: Take a particular famous person, say 'Elton John'.**"
      ],
      "metadata": {
        "id": "FR1jp-6o6EsK"
      }
    },
    {
      "cell_type": "markdown",
      "source": [
        "**a) What are the 3 words in his articles with highest word counts?**"
      ],
      "metadata": {
        "id": "f85IdDQi-XD6"
      }
    },
    {
      "cell_type": "code",
      "source": [
        "elton_john['word_count'] = turicreate.text_analytics.count_words(elton_john['text'])\n",
        "elton_john"
      ],
      "metadata": {
        "colab": {
          "base_uri": "https://localhost:8080/",
          "height": 93
        },
        "id": "R1JIj4kA6JOC",
        "outputId": "869269b6-196b-4f75-a28b-4ef8b9adeb06"
      },
      "execution_count": null,
      "outputs": [
        {
          "output_type": "execute_result",
          "data": {
            "text/html": [
              "<div style=\"max-height:1000px;max-width:1500px;overflow:auto;\"><table frame=\"box\" rules=\"cols\">\n",
              "    <tr>\n",
              "        <th style=\"padding-left: 1em; padding-right: 1em; text-align: center\">URI</th>\n",
              "        <th style=\"padding-left: 1em; padding-right: 1em; text-align: center\">name</th>\n",
              "        <th style=\"padding-left: 1em; padding-right: 1em; text-align: center\">text</th>\n",
              "        <th style=\"padding-left: 1em; padding-right: 1em; text-align: center\">word_count</th>\n",
              "    </tr>\n",
              "    <tr>\n",
              "        <td style=\"padding-left: 1em; padding-right: 1em; text-align: center; vertical-align: top\">&lt;http://dbpedia.org/resou<br>rce/Elton_John&gt; ...</td>\n",
              "        <td style=\"padding-left: 1em; padding-right: 1em; text-align: center; vertical-align: top\">Elton John</td>\n",
              "        <td style=\"padding-left: 1em; padding-right: 1em; text-align: center; vertical-align: top\">sir elton hercules john<br>cbe born reginald ken ...</td>\n",
              "        <td style=\"padding-left: 1em; padding-right: 1em; text-align: center; vertical-align: top\">{&#x27;movements&#x27;: 1.0,<br>&#x27;social&#x27;: 1.0, ...</td>\n",
              "    </tr>\n",
              "</table>\n",
              "[1 rows x 4 columns]<br/>\n",
              "</div>"
            ],
            "text/plain": [
              "Columns:\n",
              "\tURI\tstr\n",
              "\tname\tstr\n",
              "\ttext\tstr\n",
              "\tword_count\tdict\n",
              "\n",
              "Rows: 1\n",
              "\n",
              "Data:\n",
              "+-------------------------------+------------+-------------------------------+\n",
              "|              URI              |    name    |              text             |\n",
              "+-------------------------------+------------+-------------------------------+\n",
              "| <http://dbpedia.org/resour... | Elton John | sir elton hercules john cb... |\n",
              "+-------------------------------+------------+-------------------------------+\n",
              "+-------------------------------+\n",
              "|           word_count          |\n",
              "+-------------------------------+\n",
              "| {'movements': 1.0, 'social... |\n",
              "+-------------------------------+\n",
              "[1 rows x 4 columns]"
            ]
          },
          "metadata": {},
          "execution_count": 49
        }
      ]
    },
    {
      "cell_type": "code",
      "source": [
        "print(elton_john['word_count'])"
      ],
      "metadata": {
        "colab": {
          "base_uri": "https://localhost:8080/"
        },
        "id": "vM_lB7VC6iWa",
        "outputId": "608f4435-14cf-42ca-8631-6b74979f66d3"
      },
      "execution_count": null,
      "outputs": [
        {
          "output_type": "stream",
          "name": "stdout",
          "text": [
            "[{'movements': 1.0, 'social': 1.0, 'champion': 1.0, 'wed': 1.0, 'legal': 1.0, 'became': 1.0, 'after': 1.0, '2005': 1.0, 'december': 2.0, 'furnish': 2.0, '1988': 1.0, 'gay': 2.0, 'openly': 1.0, '1976': 1.0, 'bisexual': 1.0, '200': 1.0, 'raised': 1.0, 'industry': 1.0, 'film': 1.0, 'hollywood': 1.0, 'parties': 1.0, 'become': 1.0, 'which': 1.0, 'hosting': 1.0, 'year': 1.0, 'established': 1.0, '1992': 1.0, '1980s': 1.0, 'lgbt': 1.0, 'against': 1.0, 'involved': 1.0, '2014': 1.0, 'entered': 1.0, '2012he': 1.0, 'buckingham': 1.0, 'you': 1.0, 'nine': 1.0, 'academy': 3.0, 'something': 1.0, 'artists': 2.0, 'samesex': 1.0, 'single': 2.0, 'solo': 1.0, 'overallelton': 1.0, 'no': 3.0, 'era': 1.0, 'performed': 1.0, 'for': 5.0, 'foundation': 2.0, 'john': 7.0, 'such': 1.0, '27': 1.0, 'and': 15.0, 'world': 1.0, 'billboard': 4.0, '1': 2.0, 'highestprofile': 1.0, 'actor': 1.0, 'aids': 2.0, 'since': 5.0, 'consecutive': 2.0, 'songwriter': 2.0, '300': 1.0, 'including': 1.0, '40': 2.0, 'palace': 2.0, 'in': 18.0, 'datein': 1.0, 'singer': 1.0, 'four': 1.0, '1994': 1.0, 'his': 4.0, 'of': 13.0, 'the': 27.0, 'one': 3.0, 'continues': 1.0, '21': 2.0, 'rolling': 1.0, 'seven': 1.0, 'diana': 1.0, 'us': 1.0, '1997': 2.0, '10': 1.0, 'hits': 1.0, 'records': 1.0, 'million': 3.0, 'order': 1.0, 'bestselling': 2.0, 'they': 1.0, 'fivedecade': 1.0, 'artist': 1.0, 'david': 1.0, 'civil': 1.0, 'pianist': 1.0, '100': 3.0, 'him': 3.0, 'he': 7.0, 'march': 1.0, 'look': 1.0, 'at': 4.0, 'received': 2.0, 'reginald': 1.0, 'song': 1.0, 'british': 3.0, 'golden': 1.0, 'an': 3.0, 'bernie': 1.0, 'way': 1.0, 'all': 1.0, 'ii': 1.0, 'hercules': 1.0, '1967': 1.0, 'collaborated': 1.0, '33': 1.0, 'partnership': 1.0, 'awards': 3.0, 'fifty': 1.0, '1947': 1.0, 'cbe': 1.0, 'singles': 1.0, 'has': 9.0, 'had': 1.0, 'producer': 1.0, 'music': 3.0, 'career': 1.0, 'marriage': 2.0, 'kenneth': 1.0, 'with': 2.0, 'fellow': 1.0, 'elton': 3.0, 'fight': 1.0, 'worked': 1.0, 'record': 1.0, 'having': 1.0, 'be': 1.0, 'sold': 2.0, 'making': 1.0, 'most': 1.0, 'sir': 1.0, 'least': 1.0, 'to': 4.0, 'as': 2.0, 'have': 1.0, 'hot': 2.0, 'inducted': 1.0, 'taupin': 1.0, 'partner': 1.0, 'on': 6.0, 'more': 3.0, '2002': 1.0, 'brit': 1.0, '30': 1.0, 'lasting': 1.0, 'composers': 1.0, 'award': 5.0, 'royal': 1.0, 'tonightcandle': 1.0, 'westminster': 1.0, 'occasional': 1.0, 'copies': 1.0, 'worldwide': 2.0, 'charitable': 1.0, 'england': 1.0, 'began': 1.0, 'top': 4.0, 'time': 1.0, '58': 1.0, 'wind': 1.0, 'over': 2.0, 'six': 1.0, 'is': 4.0, 'culture': 1.0, 'later': 1.0, 'its': 2.0, 'grammy': 1.0, 'five': 1.0, 'winning': 1.0, 'two': 1.0, 'english': 1.0, 'outstanding': 1.0, '2008': 1.0, 'influential': 1.0, 'contribution': 1.0, 'disney': 1.0, 'first': 1.0, 'funeral': 1.0, 'brits': 1.0, 'albums': 2.0, 'icon': 1.0, 'than': 3.0, '2013': 1.0, 'inception': 1.0, 'a': 10.0, '1998': 1.0, 'globe': 1.0, '1996': 1.0, 'tony': 1.0, 'legend': 1.0, '2': 1.0, 'center': 1.0, 'who': 1.0, 'from': 1.0, 'annual': 1.0, 'honors': 1.0, '25': 1.0, 'fame': 2.0, 'events': 1.0, '2004': 2.0, 'stone': 1.0, 'ranked': 2.0, 'number': 2.0, 'years': 1.0, 'queens': 1.0, 'born': 1.0, '49': 1.0, 'musicians': 1.0, 'kennedy': 1.0, 'rock': 2.0, 'been': 3.0, 'princess': 1.0, 'roll': 2.0, 'successful': 1.0, 'male': 1.0, 'about': 1.0, 'alltime': 1.0, 'list': 1.0, 'third': 1.0, 'was': 2.0, 'into': 3.0, 'impact': 1.0, 'hall': 2.0, 'inductee': 1.0, 'announced': 1.0, '19702000': 1.0, '31': 1.0, 'named': 1.0, 'dwight': 1.0, 'songwriters': 2.0, 'heavily': 1.0, 'authors': 1.0, 'commander': 1.0, 'oscar': 1.0, 'empire': 1.0, 'lyricist': 1.0, 'knighthood': 1.0, 'elizabeth': 1.0, 'services': 2.0, 'abbey': 1.0, 'late': 1.0, 'party': 2.0, 'composer': 1.0, 'diamond': 1.0, 'jubilee': 1.0, 'concert': 1.0, 'outside': 1.0}]\n"
          ]
        }
      ]
    },
    {
      "cell_type": "code",
      "source": [
        "elton_john.stack('word_count',new_column_name=['word','count'])"
      ],
      "metadata": {
        "colab": {
          "base_uri": "https://localhost:8080/",
          "height": 458
        },
        "id": "RLMOgK-V7opL",
        "outputId": "8d614a45-3027-45c1-d638-7740bd3611b0"
      },
      "execution_count": null,
      "outputs": [
        {
          "output_type": "execute_result",
          "data": {
            "text/html": [
              "<div style=\"max-height:1000px;max-width:1500px;overflow:auto;\"><table frame=\"box\" rules=\"cols\">\n",
              "    <tr>\n",
              "        <th style=\"padding-left: 1em; padding-right: 1em; text-align: center\">URI</th>\n",
              "        <th style=\"padding-left: 1em; padding-right: 1em; text-align: center\">name</th>\n",
              "        <th style=\"padding-left: 1em; padding-right: 1em; text-align: center\">text</th>\n",
              "        <th style=\"padding-left: 1em; padding-right: 1em; text-align: center\">word</th>\n",
              "        <th style=\"padding-left: 1em; padding-right: 1em; text-align: center\">count</th>\n",
              "    </tr>\n",
              "    <tr>\n",
              "        <td style=\"padding-left: 1em; padding-right: 1em; text-align: center; vertical-align: top\">&lt;http://dbpedia.org/resou<br>rce/Elton_John&gt; ...</td>\n",
              "        <td style=\"padding-left: 1em; padding-right: 1em; text-align: center; vertical-align: top\">Elton John</td>\n",
              "        <td style=\"padding-left: 1em; padding-right: 1em; text-align: center; vertical-align: top\">sir elton hercules john<br>cbe born reginald ken ...</td>\n",
              "        <td style=\"padding-left: 1em; padding-right: 1em; text-align: center; vertical-align: top\">movements</td>\n",
              "        <td style=\"padding-left: 1em; padding-right: 1em; text-align: center; vertical-align: top\">1.0</td>\n",
              "    </tr>\n",
              "    <tr>\n",
              "        <td style=\"padding-left: 1em; padding-right: 1em; text-align: center; vertical-align: top\">&lt;http://dbpedia.org/resou<br>rce/Elton_John&gt; ...</td>\n",
              "        <td style=\"padding-left: 1em; padding-right: 1em; text-align: center; vertical-align: top\">Elton John</td>\n",
              "        <td style=\"padding-left: 1em; padding-right: 1em; text-align: center; vertical-align: top\">sir elton hercules john<br>cbe born reginald ken ...</td>\n",
              "        <td style=\"padding-left: 1em; padding-right: 1em; text-align: center; vertical-align: top\">social</td>\n",
              "        <td style=\"padding-left: 1em; padding-right: 1em; text-align: center; vertical-align: top\">1.0</td>\n",
              "    </tr>\n",
              "    <tr>\n",
              "        <td style=\"padding-left: 1em; padding-right: 1em; text-align: center; vertical-align: top\">&lt;http://dbpedia.org/resou<br>rce/Elton_John&gt; ...</td>\n",
              "        <td style=\"padding-left: 1em; padding-right: 1em; text-align: center; vertical-align: top\">Elton John</td>\n",
              "        <td style=\"padding-left: 1em; padding-right: 1em; text-align: center; vertical-align: top\">sir elton hercules john<br>cbe born reginald ken ...</td>\n",
              "        <td style=\"padding-left: 1em; padding-right: 1em; text-align: center; vertical-align: top\">champion</td>\n",
              "        <td style=\"padding-left: 1em; padding-right: 1em; text-align: center; vertical-align: top\">1.0</td>\n",
              "    </tr>\n",
              "    <tr>\n",
              "        <td style=\"padding-left: 1em; padding-right: 1em; text-align: center; vertical-align: top\">&lt;http://dbpedia.org/resou<br>rce/Elton_John&gt; ...</td>\n",
              "        <td style=\"padding-left: 1em; padding-right: 1em; text-align: center; vertical-align: top\">Elton John</td>\n",
              "        <td style=\"padding-left: 1em; padding-right: 1em; text-align: center; vertical-align: top\">sir elton hercules john<br>cbe born reginald ken ...</td>\n",
              "        <td style=\"padding-left: 1em; padding-right: 1em; text-align: center; vertical-align: top\">wed</td>\n",
              "        <td style=\"padding-left: 1em; padding-right: 1em; text-align: center; vertical-align: top\">1.0</td>\n",
              "    </tr>\n",
              "    <tr>\n",
              "        <td style=\"padding-left: 1em; padding-right: 1em; text-align: center; vertical-align: top\">&lt;http://dbpedia.org/resou<br>rce/Elton_John&gt; ...</td>\n",
              "        <td style=\"padding-left: 1em; padding-right: 1em; text-align: center; vertical-align: top\">Elton John</td>\n",
              "        <td style=\"padding-left: 1em; padding-right: 1em; text-align: center; vertical-align: top\">sir elton hercules john<br>cbe born reginald ken ...</td>\n",
              "        <td style=\"padding-left: 1em; padding-right: 1em; text-align: center; vertical-align: top\">legal</td>\n",
              "        <td style=\"padding-left: 1em; padding-right: 1em; text-align: center; vertical-align: top\">1.0</td>\n",
              "    </tr>\n",
              "    <tr>\n",
              "        <td style=\"padding-left: 1em; padding-right: 1em; text-align: center; vertical-align: top\">&lt;http://dbpedia.org/resou<br>rce/Elton_John&gt; ...</td>\n",
              "        <td style=\"padding-left: 1em; padding-right: 1em; text-align: center; vertical-align: top\">Elton John</td>\n",
              "        <td style=\"padding-left: 1em; padding-right: 1em; text-align: center; vertical-align: top\">sir elton hercules john<br>cbe born reginald ken ...</td>\n",
              "        <td style=\"padding-left: 1em; padding-right: 1em; text-align: center; vertical-align: top\">became</td>\n",
              "        <td style=\"padding-left: 1em; padding-right: 1em; text-align: center; vertical-align: top\">1.0</td>\n",
              "    </tr>\n",
              "    <tr>\n",
              "        <td style=\"padding-left: 1em; padding-right: 1em; text-align: center; vertical-align: top\">&lt;http://dbpedia.org/resou<br>rce/Elton_John&gt; ...</td>\n",
              "        <td style=\"padding-left: 1em; padding-right: 1em; text-align: center; vertical-align: top\">Elton John</td>\n",
              "        <td style=\"padding-left: 1em; padding-right: 1em; text-align: center; vertical-align: top\">sir elton hercules john<br>cbe born reginald ken ...</td>\n",
              "        <td style=\"padding-left: 1em; padding-right: 1em; text-align: center; vertical-align: top\">after</td>\n",
              "        <td style=\"padding-left: 1em; padding-right: 1em; text-align: center; vertical-align: top\">1.0</td>\n",
              "    </tr>\n",
              "    <tr>\n",
              "        <td style=\"padding-left: 1em; padding-right: 1em; text-align: center; vertical-align: top\">&lt;http://dbpedia.org/resou<br>rce/Elton_John&gt; ...</td>\n",
              "        <td style=\"padding-left: 1em; padding-right: 1em; text-align: center; vertical-align: top\">Elton John</td>\n",
              "        <td style=\"padding-left: 1em; padding-right: 1em; text-align: center; vertical-align: top\">sir elton hercules john<br>cbe born reginald ken ...</td>\n",
              "        <td style=\"padding-left: 1em; padding-right: 1em; text-align: center; vertical-align: top\">2005</td>\n",
              "        <td style=\"padding-left: 1em; padding-right: 1em; text-align: center; vertical-align: top\">1.0</td>\n",
              "    </tr>\n",
              "    <tr>\n",
              "        <td style=\"padding-left: 1em; padding-right: 1em; text-align: center; vertical-align: top\">&lt;http://dbpedia.org/resou<br>rce/Elton_John&gt; ...</td>\n",
              "        <td style=\"padding-left: 1em; padding-right: 1em; text-align: center; vertical-align: top\">Elton John</td>\n",
              "        <td style=\"padding-left: 1em; padding-right: 1em; text-align: center; vertical-align: top\">sir elton hercules john<br>cbe born reginald ken ...</td>\n",
              "        <td style=\"padding-left: 1em; padding-right: 1em; text-align: center; vertical-align: top\">december</td>\n",
              "        <td style=\"padding-left: 1em; padding-right: 1em; text-align: center; vertical-align: top\">2.0</td>\n",
              "    </tr>\n",
              "    <tr>\n",
              "        <td style=\"padding-left: 1em; padding-right: 1em; text-align: center; vertical-align: top\">&lt;http://dbpedia.org/resou<br>rce/Elton_John&gt; ...</td>\n",
              "        <td style=\"padding-left: 1em; padding-right: 1em; text-align: center; vertical-align: top\">Elton John</td>\n",
              "        <td style=\"padding-left: 1em; padding-right: 1em; text-align: center; vertical-align: top\">sir elton hercules john<br>cbe born reginald ken ...</td>\n",
              "        <td style=\"padding-left: 1em; padding-right: 1em; text-align: center; vertical-align: top\">furnish</td>\n",
              "        <td style=\"padding-left: 1em; padding-right: 1em; text-align: center; vertical-align: top\">2.0</td>\n",
              "    </tr>\n",
              "</table>\n",
              "[255 rows x 5 columns]<br/>Note: Only the head of the SFrame is printed.<br/>You can use print_rows(num_rows=m, num_columns=n) to print more rows and columns.\n",
              "</div>"
            ],
            "text/plain": [
              "Columns:\n",
              "\tURI\tstr\n",
              "\tname\tstr\n",
              "\ttext\tstr\n",
              "\tword\tstr\n",
              "\tcount\tfloat\n",
              "\n",
              "Rows: 255\n",
              "\n",
              "Data:\n",
              "+-------------------------------+------------+-------------------------------+\n",
              "|              URI              |    name    |              text             |\n",
              "+-------------------------------+------------+-------------------------------+\n",
              "| <http://dbpedia.org/resour... | Elton John | sir elton hercules john cb... |\n",
              "| <http://dbpedia.org/resour... | Elton John | sir elton hercules john cb... |\n",
              "| <http://dbpedia.org/resour... | Elton John | sir elton hercules john cb... |\n",
              "| <http://dbpedia.org/resour... | Elton John | sir elton hercules john cb... |\n",
              "| <http://dbpedia.org/resour... | Elton John | sir elton hercules john cb... |\n",
              "| <http://dbpedia.org/resour... | Elton John | sir elton hercules john cb... |\n",
              "| <http://dbpedia.org/resour... | Elton John | sir elton hercules john cb... |\n",
              "| <http://dbpedia.org/resour... | Elton John | sir elton hercules john cb... |\n",
              "| <http://dbpedia.org/resour... | Elton John | sir elton hercules john cb... |\n",
              "| <http://dbpedia.org/resour... | Elton John | sir elton hercules john cb... |\n",
              "+-------------------------------+------------+-------------------------------+\n",
              "+-----------+-------+\n",
              "|    word   | count |\n",
              "+-----------+-------+\n",
              "| movements |  1.0  |\n",
              "|   social  |  1.0  |\n",
              "|  champion |  1.0  |\n",
              "|    wed    |  1.0  |\n",
              "|   legal   |  1.0  |\n",
              "|   became  |  1.0  |\n",
              "|   after   |  1.0  |\n",
              "|    2005   |  1.0  |\n",
              "|  december |  2.0  |\n",
              "|  furnish  |  2.0  |\n",
              "+-----------+-------+\n",
              "[255 rows x 5 columns]\n",
              "Note: Only the head of the SFrame is printed.\n",
              "You can use print_rows(num_rows=m, num_columns=n) to print more rows and columns."
            ]
          },
          "metadata": {},
          "execution_count": 51
        }
      ]
    },
    {
      "cell_type": "code",
      "source": [
        "elton_john_word_count_table = elton_john[['word_count']].stack('word_count', new_column_name = ['word','count'])\n",
        "elton_john_word_count_table.sort('count', ascending = False)"
      ],
      "metadata": {
        "colab": {
          "base_uri": "https://localhost:8080/",
          "height": 284
        },
        "id": "bhkIy0KN8ijo",
        "outputId": "16155fdb-f2af-4900-e1c2-93adb1a0b2bd"
      },
      "execution_count": null,
      "outputs": [
        {
          "output_type": "execute_result",
          "data": {
            "text/html": [
              "<div style=\"max-height:1000px;max-width:1500px;overflow:auto;\"><table frame=\"box\" rules=\"cols\">\n",
              "    <tr>\n",
              "        <th style=\"padding-left: 1em; padding-right: 1em; text-align: center\">word</th>\n",
              "        <th style=\"padding-left: 1em; padding-right: 1em; text-align: center\">count</th>\n",
              "    </tr>\n",
              "    <tr>\n",
              "        <td style=\"padding-left: 1em; padding-right: 1em; text-align: center; vertical-align: top\">the</td>\n",
              "        <td style=\"padding-left: 1em; padding-right: 1em; text-align: center; vertical-align: top\">27.0</td>\n",
              "    </tr>\n",
              "    <tr>\n",
              "        <td style=\"padding-left: 1em; padding-right: 1em; text-align: center; vertical-align: top\">in</td>\n",
              "        <td style=\"padding-left: 1em; padding-right: 1em; text-align: center; vertical-align: top\">18.0</td>\n",
              "    </tr>\n",
              "    <tr>\n",
              "        <td style=\"padding-left: 1em; padding-right: 1em; text-align: center; vertical-align: top\">and</td>\n",
              "        <td style=\"padding-left: 1em; padding-right: 1em; text-align: center; vertical-align: top\">15.0</td>\n",
              "    </tr>\n",
              "    <tr>\n",
              "        <td style=\"padding-left: 1em; padding-right: 1em; text-align: center; vertical-align: top\">of</td>\n",
              "        <td style=\"padding-left: 1em; padding-right: 1em; text-align: center; vertical-align: top\">13.0</td>\n",
              "    </tr>\n",
              "    <tr>\n",
              "        <td style=\"padding-left: 1em; padding-right: 1em; text-align: center; vertical-align: top\">a</td>\n",
              "        <td style=\"padding-left: 1em; padding-right: 1em; text-align: center; vertical-align: top\">10.0</td>\n",
              "    </tr>\n",
              "    <tr>\n",
              "        <td style=\"padding-left: 1em; padding-right: 1em; text-align: center; vertical-align: top\">has</td>\n",
              "        <td style=\"padding-left: 1em; padding-right: 1em; text-align: center; vertical-align: top\">9.0</td>\n",
              "    </tr>\n",
              "    <tr>\n",
              "        <td style=\"padding-left: 1em; padding-right: 1em; text-align: center; vertical-align: top\">he</td>\n",
              "        <td style=\"padding-left: 1em; padding-right: 1em; text-align: center; vertical-align: top\">7.0</td>\n",
              "    </tr>\n",
              "    <tr>\n",
              "        <td style=\"padding-left: 1em; padding-right: 1em; text-align: center; vertical-align: top\">john</td>\n",
              "        <td style=\"padding-left: 1em; padding-right: 1em; text-align: center; vertical-align: top\">7.0</td>\n",
              "    </tr>\n",
              "    <tr>\n",
              "        <td style=\"padding-left: 1em; padding-right: 1em; text-align: center; vertical-align: top\">on</td>\n",
              "        <td style=\"padding-left: 1em; padding-right: 1em; text-align: center; vertical-align: top\">6.0</td>\n",
              "    </tr>\n",
              "    <tr>\n",
              "        <td style=\"padding-left: 1em; padding-right: 1em; text-align: center; vertical-align: top\">since</td>\n",
              "        <td style=\"padding-left: 1em; padding-right: 1em; text-align: center; vertical-align: top\">5.0</td>\n",
              "    </tr>\n",
              "</table>\n",
              "[255 rows x 2 columns]<br/>Note: Only the head of the SFrame is printed.<br/>You can use print_rows(num_rows=m, num_columns=n) to print more rows and columns.\n",
              "</div>"
            ],
            "text/plain": [
              "Columns:\n",
              "\tword\tstr\n",
              "\tcount\tfloat\n",
              "\n",
              "Rows: 255\n",
              "\n",
              "Data:\n",
              "+-------+-------+\n",
              "|  word | count |\n",
              "+-------+-------+\n",
              "|  the  |  27.0 |\n",
              "|   in  |  18.0 |\n",
              "|  and  |  15.0 |\n",
              "|   of  |  13.0 |\n",
              "|   a   |  10.0 |\n",
              "|  has  |  9.0  |\n",
              "|   he  |  7.0  |\n",
              "|  john |  7.0  |\n",
              "|   on  |  6.0  |\n",
              "| since |  5.0  |\n",
              "+-------+-------+\n",
              "[255 rows x 2 columns]\n",
              "Note: Only the head of the SFrame is printed.\n",
              "You can use print_rows(num_rows=m, num_columns=n) to print more rows and columns."
            ]
          },
          "metadata": {},
          "execution_count": 52
        }
      ]
    },
    {
      "cell_type": "markdown",
      "source": [
        "**b) What are the 3 words in his articles with highest TF-IDF?**"
      ],
      "metadata": {
        "id": "B2inihzM-kFS"
      }
    },
    {
      "cell_type": "code",
      "source": [
        "elton_john = people[people['name'] == 'Elton John']\n",
        "elton_john[['tfidf']].stack('tfidf',new_column_name=['word','tfidf']).sort('tfidf',ascending=False)"
      ],
      "metadata": {
        "colab": {
          "base_uri": "https://localhost:8080/",
          "height": 284
        },
        "id": "sNxCLe7y942A",
        "outputId": "57fe3e0d-960a-4853-9fea-a984f59bd18b"
      },
      "execution_count": null,
      "outputs": [
        {
          "output_type": "execute_result",
          "data": {
            "text/html": [
              "<div style=\"max-height:1000px;max-width:1500px;overflow:auto;\"><table frame=\"box\" rules=\"cols\">\n",
              "    <tr>\n",
              "        <th style=\"padding-left: 1em; padding-right: 1em; text-align: center\">word</th>\n",
              "        <th style=\"padding-left: 1em; padding-right: 1em; text-align: center\">tfidf</th>\n",
              "    </tr>\n",
              "    <tr>\n",
              "        <td style=\"padding-left: 1em; padding-right: 1em; text-align: center; vertical-align: top\">furnish</td>\n",
              "        <td style=\"padding-left: 1em; padding-right: 1em; text-align: center; vertical-align: top\">18.38947183999428</td>\n",
              "    </tr>\n",
              "    <tr>\n",
              "        <td style=\"padding-left: 1em; padding-right: 1em; text-align: center; vertical-align: top\">elton</td>\n",
              "        <td style=\"padding-left: 1em; padding-right: 1em; text-align: center; vertical-align: top\">17.482320270031995</td>\n",
              "    </tr>\n",
              "    <tr>\n",
              "        <td style=\"padding-left: 1em; padding-right: 1em; text-align: center; vertical-align: top\">billboard</td>\n",
              "        <td style=\"padding-left: 1em; padding-right: 1em; text-align: center; vertical-align: top\">17.30368095754203</td>\n",
              "    </tr>\n",
              "    <tr>\n",
              "        <td style=\"padding-left: 1em; padding-right: 1em; text-align: center; vertical-align: top\">john</td>\n",
              "        <td style=\"padding-left: 1em; padding-right: 1em; text-align: center; vertical-align: top\">13.93931279239831</td>\n",
              "    </tr>\n",
              "    <tr>\n",
              "        <td style=\"padding-left: 1em; padding-right: 1em; text-align: center; vertical-align: top\">songwriters</td>\n",
              "        <td style=\"padding-left: 1em; padding-right: 1em; text-align: center; vertical-align: top\">11.250406447031539</td>\n",
              "    </tr>\n",
              "    <tr>\n",
              "        <td style=\"padding-left: 1em; padding-right: 1em; text-align: center; vertical-align: top\">overallelton</td>\n",
              "        <td style=\"padding-left: 1em; padding-right: 1em; text-align: center; vertical-align: top\">10.986495389225194</td>\n",
              "    </tr>\n",
              "    <tr>\n",
              "        <td style=\"padding-left: 1em; padding-right: 1em; text-align: center; vertical-align: top\">tonightcandle</td>\n",
              "        <td style=\"padding-left: 1em; padding-right: 1em; text-align: center; vertical-align: top\">10.986495389225194</td>\n",
              "    </tr>\n",
              "    <tr>\n",
              "        <td style=\"padding-left: 1em; padding-right: 1em; text-align: center; vertical-align: top\">19702000</td>\n",
              "        <td style=\"padding-left: 1em; padding-right: 1em; text-align: center; vertical-align: top\">10.293348208665249</td>\n",
              "    </tr>\n",
              "    <tr>\n",
              "        <td style=\"padding-left: 1em; padding-right: 1em; text-align: center; vertical-align: top\">fivedecade</td>\n",
              "        <td style=\"padding-left: 1em; padding-right: 1em; text-align: center; vertical-align: top\">10.293348208665249</td>\n",
              "    </tr>\n",
              "    <tr>\n",
              "        <td style=\"padding-left: 1em; padding-right: 1em; text-align: center; vertical-align: top\">aids</td>\n",
              "        <td style=\"padding-left: 1em; padding-right: 1em; text-align: center; vertical-align: top\">10.262846934045534</td>\n",
              "    </tr>\n",
              "</table>\n",
              "[255 rows x 2 columns]<br/>Note: Only the head of the SFrame is printed.<br/>You can use print_rows(num_rows=m, num_columns=n) to print more rows and columns.\n",
              "</div>"
            ],
            "text/plain": [
              "Columns:\n",
              "\tword\tstr\n",
              "\ttfidf\tfloat\n",
              "\n",
              "Rows: 255\n",
              "\n",
              "Data:\n",
              "+---------------+--------------------+\n",
              "|      word     |       tfidf        |\n",
              "+---------------+--------------------+\n",
              "|    furnish    | 18.38947183999428  |\n",
              "|     elton     | 17.482320270031995 |\n",
              "|   billboard   | 17.30368095754203  |\n",
              "|      john     | 13.93931279239831  |\n",
              "|  songwriters  | 11.250406447031539 |\n",
              "|  overallelton | 10.986495389225194 |\n",
              "| tonightcandle | 10.986495389225194 |\n",
              "|    19702000   | 10.293348208665249 |\n",
              "|   fivedecade  | 10.293348208665249 |\n",
              "|      aids     | 10.262846934045534 |\n",
              "+---------------+--------------------+\n",
              "[255 rows x 2 columns]\n",
              "Note: Only the head of the SFrame is printed.\n",
              "You can use print_rows(num_rows=m, num_columns=n) to print more rows and columns."
            ]
          },
          "metadata": {},
          "execution_count": 53
        }
      ]
    },
    {
      "cell_type": "markdown",
      "source": [
        "**c) Which one do you think is more useful in finding important words? Why?**"
      ],
      "metadata": {
        "id": "Xqjpp5zh-urK"
      }
    },
    {
      "cell_type": "markdown",
      "source": [
        "TF-IDF daha kullanışlıdır çünkü kelime sayılarına bakarak makaleden bir anlam çıkartamayabiliriz, Elton John makalesinde de gördüğümüz gibi makalede en çok geçen üç kelime 'the' , 'in', 'and' gibi tek başına herhangi bir anlamı olmayan kelimelerdir. Fakat TF-IDF'e baktığımızda kelimelerin her biri anlam ifade eder."
      ],
      "metadata": {
        "id": "_b4iDco0IhlF"
      }
    },
    {
      "cell_type": "markdown",
      "source": [
        "# **4. Measuring distance: Compute the distance between Elton John’s article and those of two other famous singers. In this assignment, you will use the cosine distance, which measure similarity between vectors.**"
      ],
      "metadata": {
        "id": "jC_WuEmU-3ZF"
      }
    },
    {
      "cell_type": "code",
      "source": [
        "elton_john = people[people['name'] == 'Elton John']\n",
        "victoria_beckham = people[people['name'] == 'Victoria Beckham']\n",
        "paul_mccartney = people[people['name'] == 'Paul McCartney']"
      ],
      "metadata": {
        "id": "fawxZDtN_fOa"
      },
      "execution_count": null,
      "outputs": []
    },
    {
      "cell_type": "markdown",
      "source": [
        "**a) What is the cosine distance between the articles on ‘Elton John’ and ‘Victoria Beckham’?**"
      ],
      "metadata": {
        "id": "EvMJFNzi_Bvp"
      }
    },
    {
      "cell_type": "code",
      "source": [
        "turicreate.distances.cosine(elton_john['tfidf'][0],victoria_beckham['tfidf'][0])"
      ],
      "metadata": {
        "colab": {
          "base_uri": "https://localhost:8080/"
        },
        "id": "gwn3vyyf--dJ",
        "outputId": "a95bebeb-3469-4d88-81b2-08ecaf688b42"
      },
      "execution_count": null,
      "outputs": [
        {
          "output_type": "execute_result",
          "data": {
            "text/plain": [
              "0.9567006376655429"
            ]
          },
          "metadata": {},
          "execution_count": 55
        }
      ]
    },
    {
      "cell_type": "markdown",
      "source": [
        "**b) What is the cosine distance between the articles on ‘Elton John’ and Paul McCartney’?**"
      ],
      "metadata": {
        "id": "xIvgo-ccAPlx"
      }
    },
    {
      "cell_type": "code",
      "source": [
        "turicreate.distances.cosine(elton_john['tfidf'][0],paul_mccartney['tfidf'][0])"
      ],
      "metadata": {
        "colab": {
          "base_uri": "https://localhost:8080/"
        },
        "id": "bgQ_wWSNAQ0Z",
        "outputId": "b0f23eef-3138-485e-b973-fc76cd040c28"
      },
      "execution_count": null,
      "outputs": [
        {
          "output_type": "execute_result",
          "data": {
            "text/plain": [
              "0.8250310029221779"
            ]
          },
          "metadata": {},
          "execution_count": 56
        }
      ]
    },
    {
      "cell_type": "markdown",
      "source": [
        "**c) Which one of the two is closest to Elton John?**"
      ],
      "metadata": {
        "id": "Vlg08RtHA_4B"
      }
    },
    {
      "cell_type": "markdown",
      "source": [
        "Elton John makalesi ile Vicoria Beckham makalelerinin kosinüs mesafesi 0.95, Paul McCartney ile ise 0,82'dir. Elton John makalesi cosine mesafesi kendisine daha az olan Paul McCartney makalesi ile daha yakındır (benzerdir)."
      ],
      "metadata": {
        "id": "Tx74QTIkBDFY"
      }
    },
    {
      "cell_type": "markdown",
      "source": [
        "**d) Does this result make sense to you? Why?**"
      ],
      "metadata": {
        "id": "GE_OZFQFC61S"
      }
    },
    {
      "cell_type": "markdown",
      "source": [
        "Evet, çıkan sonuç mantıklıdır."
      ],
      "metadata": {
        "id": "cZT0_HVFJvaO"
      }
    },
    {
      "cell_type": "markdown",
      "source": [
        "# **5. Building nearest neighbors (kNN) models with different input features and setting the distance metric: Build two nearest neighbors (kNN) models for retrieving articles; one model by using word counts as features and another one using TF-IDF as features. In both of these models, set the distance function to cosine similarity.**"
      ],
      "metadata": {
        "id": "ivniyjew69kp"
      }
    },
    {
      "cell_type": "markdown",
      "source": [
        "**WORD COUNTS MODEL**"
      ],
      "metadata": {
        "id": "S5yiAxsA-FUp"
      }
    },
    {
      "cell_type": "code",
      "source": [
        "wordcounts_model = turicreate.nearest_neighbors.create(people,features=['word_count'],label='name')"
      ],
      "metadata": {
        "colab": {
          "base_uri": "https://localhost:8080/",
          "height": 104
        },
        "id": "CaW-qZqL-Drv",
        "outputId": "a9ff3619-b45b-4375-d6bf-41742b910c99"
      },
      "execution_count": null,
      "outputs": [
        {
          "output_type": "display_data",
          "data": {
            "text/html": [
              "<pre>Starting brute force nearest neighbors model training.</pre>"
            ],
            "text/plain": [
              "Starting brute force nearest neighbors model training."
            ]
          },
          "metadata": {}
        },
        {
          "output_type": "display_data",
          "data": {
            "text/html": [
              "<pre>Validating distance components.</pre>"
            ],
            "text/plain": [
              "Validating distance components."
            ]
          },
          "metadata": {}
        },
        {
          "output_type": "display_data",
          "data": {
            "text/html": [
              "<pre>Initializing model data.</pre>"
            ],
            "text/plain": [
              "Initializing model data."
            ]
          },
          "metadata": {}
        },
        {
          "output_type": "display_data",
          "data": {
            "text/html": [
              "<pre>Initializing distances.</pre>"
            ],
            "text/plain": [
              "Initializing distances."
            ]
          },
          "metadata": {}
        },
        {
          "output_type": "display_data",
          "data": {
            "text/html": [
              "<pre>Done.</pre>"
            ],
            "text/plain": [
              "Done."
            ]
          },
          "metadata": {}
        }
      ]
    },
    {
      "cell_type": "markdown",
      "source": [
        "**TF-IDF MODEL**"
      ],
      "metadata": {
        "id": "e7FLU5cB-Bbw"
      }
    },
    {
      "cell_type": "code",
      "source": [
        "tfidf_model = turicreate.nearest_neighbors.create(people,features=['tfidf'],label='name')"
      ],
      "metadata": {
        "colab": {
          "base_uri": "https://localhost:8080/",
          "height": 104
        },
        "id": "QQZXoEHD7mVB",
        "outputId": "1056e566-0dac-4fbc-9f99-b5941f01182a"
      },
      "execution_count": null,
      "outputs": [
        {
          "output_type": "display_data",
          "data": {
            "text/html": [
              "<pre>Starting brute force nearest neighbors model training.</pre>"
            ],
            "text/plain": [
              "Starting brute force nearest neighbors model training."
            ]
          },
          "metadata": {}
        },
        {
          "output_type": "display_data",
          "data": {
            "text/html": [
              "<pre>Validating distance components.</pre>"
            ],
            "text/plain": [
              "Validating distance components."
            ]
          },
          "metadata": {}
        },
        {
          "output_type": "display_data",
          "data": {
            "text/html": [
              "<pre>Initializing model data.</pre>"
            ],
            "text/plain": [
              "Initializing model data."
            ]
          },
          "metadata": {}
        },
        {
          "output_type": "display_data",
          "data": {
            "text/html": [
              "<pre>Initializing distances.</pre>"
            ],
            "text/plain": [
              "Initializing distances."
            ]
          },
          "metadata": {}
        },
        {
          "output_type": "display_data",
          "data": {
            "text/html": [
              "<pre>Done.</pre>"
            ],
            "text/plain": [
              "Done."
            ]
          },
          "metadata": {}
        }
      ]
    },
    {
      "cell_type": "markdown",
      "source": [
        "**a) What is the most similar article, other than itself, to the one on ‘Elton John’ using word count features?**"
      ],
      "metadata": {
        "id": "8cT8ezL29gsI"
      }
    },
    {
      "cell_type": "code",
      "source": [
        "wordcounts_model.query(elton_john)"
      ],
      "metadata": {
        "colab": {
          "base_uri": "https://localhost:8080/",
          "height": 274
        },
        "id": "zF1KiaAt-UiC",
        "outputId": "0bccad20-1fb8-41f7-905f-613cd48ad6fc"
      },
      "execution_count": null,
      "outputs": [
        {
          "output_type": "display_data",
          "data": {
            "text/html": [
              "<pre>Starting pairwise querying.</pre>"
            ],
            "text/plain": [
              "Starting pairwise querying."
            ]
          },
          "metadata": {}
        },
        {
          "output_type": "display_data",
          "data": {
            "text/html": [
              "<pre>+--------------+---------+-------------+--------------+</pre>"
            ],
            "text/plain": [
              "+--------------+---------+-------------+--------------+"
            ]
          },
          "metadata": {}
        },
        {
          "output_type": "display_data",
          "data": {
            "text/html": [
              "<pre>| Query points | # Pairs | % Complete. | Elapsed Time |</pre>"
            ],
            "text/plain": [
              "| Query points | # Pairs | % Complete. | Elapsed Time |"
            ]
          },
          "metadata": {}
        },
        {
          "output_type": "display_data",
          "data": {
            "text/html": [
              "<pre>+--------------+---------+-------------+--------------+</pre>"
            ],
            "text/plain": [
              "+--------------+---------+-------------+--------------+"
            ]
          },
          "metadata": {}
        },
        {
          "output_type": "display_data",
          "data": {
            "text/html": [
              "<pre>| 0            | 1       | 0.00169288  | 21.594ms     |</pre>"
            ],
            "text/plain": [
              "| 0            | 1       | 0.00169288  | 21.594ms     |"
            ]
          },
          "metadata": {}
        },
        {
          "output_type": "display_data",
          "data": {
            "text/html": [
              "<pre>| Done         |         | 100         | 549.107ms    |</pre>"
            ],
            "text/plain": [
              "| Done         |         | 100         | 549.107ms    |"
            ]
          },
          "metadata": {}
        },
        {
          "output_type": "display_data",
          "data": {
            "text/html": [
              "<pre>+--------------+---------+-------------+--------------+</pre>"
            ],
            "text/plain": [
              "+--------------+---------+-------------+--------------+"
            ]
          },
          "metadata": {}
        },
        {
          "output_type": "execute_result",
          "data": {
            "text/html": [
              "<div style=\"max-height:1000px;max-width:1500px;overflow:auto;\"><table frame=\"box\" rules=\"cols\">\n",
              "    <tr>\n",
              "        <th style=\"padding-left: 1em; padding-right: 1em; text-align: center\">query_label</th>\n",
              "        <th style=\"padding-left: 1em; padding-right: 1em; text-align: center\">reference_label</th>\n",
              "        <th style=\"padding-left: 1em; padding-right: 1em; text-align: center\">distance</th>\n",
              "        <th style=\"padding-left: 1em; padding-right: 1em; text-align: center\">rank</th>\n",
              "    </tr>\n",
              "    <tr>\n",
              "        <td style=\"padding-left: 1em; padding-right: 1em; text-align: center; vertical-align: top\">0</td>\n",
              "        <td style=\"padding-left: 1em; padding-right: 1em; text-align: center; vertical-align: top\">Elton John</td>\n",
              "        <td style=\"padding-left: 1em; padding-right: 1em; text-align: center; vertical-align: top\">0.0</td>\n",
              "        <td style=\"padding-left: 1em; padding-right: 1em; text-align: center; vertical-align: top\">1</td>\n",
              "    </tr>\n",
              "    <tr>\n",
              "        <td style=\"padding-left: 1em; padding-right: 1em; text-align: center; vertical-align: top\">0</td>\n",
              "        <td style=\"padding-left: 1em; padding-right: 1em; text-align: center; vertical-align: top\">Phil Collins</td>\n",
              "        <td style=\"padding-left: 1em; padding-right: 1em; text-align: center; vertical-align: top\">0.7639902676399026</td>\n",
              "        <td style=\"padding-left: 1em; padding-right: 1em; text-align: center; vertical-align: top\">2</td>\n",
              "    </tr>\n",
              "    <tr>\n",
              "        <td style=\"padding-left: 1em; padding-right: 1em; text-align: center; vertical-align: top\">0</td>\n",
              "        <td style=\"padding-left: 1em; padding-right: 1em; text-align: center; vertical-align: top\">Rod Stewart</td>\n",
              "        <td style=\"padding-left: 1em; padding-right: 1em; text-align: center; vertical-align: top\">0.7733333333333333</td>\n",
              "        <td style=\"padding-left: 1em; padding-right: 1em; text-align: center; vertical-align: top\">3</td>\n",
              "    </tr>\n",
              "    <tr>\n",
              "        <td style=\"padding-left: 1em; padding-right: 1em; text-align: center; vertical-align: top\">0</td>\n",
              "        <td style=\"padding-left: 1em; padding-right: 1em; text-align: center; vertical-align: top\">Annie Lennox</td>\n",
              "        <td style=\"padding-left: 1em; padding-right: 1em; text-align: center; vertical-align: top\">0.7766233766233767</td>\n",
              "        <td style=\"padding-left: 1em; padding-right: 1em; text-align: center; vertical-align: top\">4</td>\n",
              "    </tr>\n",
              "    <tr>\n",
              "        <td style=\"padding-left: 1em; padding-right: 1em; text-align: center; vertical-align: top\">0</td>\n",
              "        <td style=\"padding-left: 1em; padding-right: 1em; text-align: center; vertical-align: top\">Barry Gibb</td>\n",
              "        <td style=\"padding-left: 1em; padding-right: 1em; text-align: center; vertical-align: top\">0.780952380952381</td>\n",
              "        <td style=\"padding-left: 1em; padding-right: 1em; text-align: center; vertical-align: top\">5</td>\n",
              "    </tr>\n",
              "</table>\n",
              "[5 rows x 4 columns]<br/>\n",
              "</div>"
            ],
            "text/plain": [
              "Columns:\n",
              "\tquery_label\tint\n",
              "\treference_label\tstr\n",
              "\tdistance\tfloat\n",
              "\trank\tint\n",
              "\n",
              "Rows: 5\n",
              "\n",
              "Data:\n",
              "+-------------+-----------------+--------------------+------+\n",
              "| query_label | reference_label |      distance      | rank |\n",
              "+-------------+-----------------+--------------------+------+\n",
              "|      0      |    Elton John   |        0.0         |  1   |\n",
              "|      0      |   Phil Collins  | 0.7639902676399026 |  2   |\n",
              "|      0      |   Rod Stewart   | 0.7733333333333333 |  3   |\n",
              "|      0      |   Annie Lennox  | 0.7766233766233767 |  4   |\n",
              "|      0      |    Barry Gibb   | 0.780952380952381  |  5   |\n",
              "+-------------+-----------------+--------------------+------+\n",
              "[5 rows x 4 columns]"
            ]
          },
          "metadata": {},
          "execution_count": 67
        }
      ]
    },
    {
      "cell_type": "markdown",
      "source": [
        "**b) What is the most similar article, other than itself, to the one on ‘Elton John’ using TF-IDF features?**"
      ],
      "metadata": {
        "id": "1mmNt68A-sTn"
      }
    },
    {
      "cell_type": "code",
      "source": [
        "tfidf_model.query(elton_john)"
      ],
      "metadata": {
        "colab": {
          "base_uri": "https://localhost:8080/",
          "height": 274
        },
        "id": "mc3wjliY8vso",
        "outputId": "62b6c236-cdf1-404f-d6e8-7ec6711d3e3a"
      },
      "execution_count": null,
      "outputs": [
        {
          "output_type": "display_data",
          "data": {
            "text/html": [
              "<pre>Starting pairwise querying.</pre>"
            ],
            "text/plain": [
              "Starting pairwise querying."
            ]
          },
          "metadata": {}
        },
        {
          "output_type": "display_data",
          "data": {
            "text/html": [
              "<pre>+--------------+---------+-------------+--------------+</pre>"
            ],
            "text/plain": [
              "+--------------+---------+-------------+--------------+"
            ]
          },
          "metadata": {}
        },
        {
          "output_type": "display_data",
          "data": {
            "text/html": [
              "<pre>| Query points | # Pairs | % Complete. | Elapsed Time |</pre>"
            ],
            "text/plain": [
              "| Query points | # Pairs | % Complete. | Elapsed Time |"
            ]
          },
          "metadata": {}
        },
        {
          "output_type": "display_data",
          "data": {
            "text/html": [
              "<pre>+--------------+---------+-------------+--------------+</pre>"
            ],
            "text/plain": [
              "+--------------+---------+-------------+--------------+"
            ]
          },
          "metadata": {}
        },
        {
          "output_type": "display_data",
          "data": {
            "text/html": [
              "<pre>| 0            | 1       | 0.00169288  | 12.675ms     |</pre>"
            ],
            "text/plain": [
              "| 0            | 1       | 0.00169288  | 12.675ms     |"
            ]
          },
          "metadata": {}
        },
        {
          "output_type": "display_data",
          "data": {
            "text/html": [
              "<pre>| Done         |         | 100         | 542.509ms    |</pre>"
            ],
            "text/plain": [
              "| Done         |         | 100         | 542.509ms    |"
            ]
          },
          "metadata": {}
        },
        {
          "output_type": "display_data",
          "data": {
            "text/html": [
              "<pre>+--------------+---------+-------------+--------------+</pre>"
            ],
            "text/plain": [
              "+--------------+---------+-------------+--------------+"
            ]
          },
          "metadata": {}
        },
        {
          "output_type": "execute_result",
          "data": {
            "text/html": [
              "<div style=\"max-height:1000px;max-width:1500px;overflow:auto;\"><table frame=\"box\" rules=\"cols\">\n",
              "    <tr>\n",
              "        <th style=\"padding-left: 1em; padding-right: 1em; text-align: center\">query_label</th>\n",
              "        <th style=\"padding-left: 1em; padding-right: 1em; text-align: center\">reference_label</th>\n",
              "        <th style=\"padding-left: 1em; padding-right: 1em; text-align: center\">distance</th>\n",
              "        <th style=\"padding-left: 1em; padding-right: 1em; text-align: center\">rank</th>\n",
              "    </tr>\n",
              "    <tr>\n",
              "        <td style=\"padding-left: 1em; padding-right: 1em; text-align: center; vertical-align: top\">0</td>\n",
              "        <td style=\"padding-left: 1em; padding-right: 1em; text-align: center; vertical-align: top\">Elton John</td>\n",
              "        <td style=\"padding-left: 1em; padding-right: 1em; text-align: center; vertical-align: top\">0.0</td>\n",
              "        <td style=\"padding-left: 1em; padding-right: 1em; text-align: center; vertical-align: top\">1</td>\n",
              "    </tr>\n",
              "    <tr>\n",
              "        <td style=\"padding-left: 1em; padding-right: 1em; text-align: center; vertical-align: top\">0</td>\n",
              "        <td style=\"padding-left: 1em; padding-right: 1em; text-align: center; vertical-align: top\">Phil Collins</td>\n",
              "        <td style=\"padding-left: 1em; padding-right: 1em; text-align: center; vertical-align: top\">0.7639902676399026</td>\n",
              "        <td style=\"padding-left: 1em; padding-right: 1em; text-align: center; vertical-align: top\">2</td>\n",
              "    </tr>\n",
              "    <tr>\n",
              "        <td style=\"padding-left: 1em; padding-right: 1em; text-align: center; vertical-align: top\">0</td>\n",
              "        <td style=\"padding-left: 1em; padding-right: 1em; text-align: center; vertical-align: top\">Rod Stewart</td>\n",
              "        <td style=\"padding-left: 1em; padding-right: 1em; text-align: center; vertical-align: top\">0.7733333333333333</td>\n",
              "        <td style=\"padding-left: 1em; padding-right: 1em; text-align: center; vertical-align: top\">3</td>\n",
              "    </tr>\n",
              "    <tr>\n",
              "        <td style=\"padding-left: 1em; padding-right: 1em; text-align: center; vertical-align: top\">0</td>\n",
              "        <td style=\"padding-left: 1em; padding-right: 1em; text-align: center; vertical-align: top\">Annie Lennox</td>\n",
              "        <td style=\"padding-left: 1em; padding-right: 1em; text-align: center; vertical-align: top\">0.7766233766233767</td>\n",
              "        <td style=\"padding-left: 1em; padding-right: 1em; text-align: center; vertical-align: top\">4</td>\n",
              "    </tr>\n",
              "    <tr>\n",
              "        <td style=\"padding-left: 1em; padding-right: 1em; text-align: center; vertical-align: top\">0</td>\n",
              "        <td style=\"padding-left: 1em; padding-right: 1em; text-align: center; vertical-align: top\">Barry Gibb</td>\n",
              "        <td style=\"padding-left: 1em; padding-right: 1em; text-align: center; vertical-align: top\">0.780952380952381</td>\n",
              "        <td style=\"padding-left: 1em; padding-right: 1em; text-align: center; vertical-align: top\">5</td>\n",
              "    </tr>\n",
              "</table>\n",
              "[5 rows x 4 columns]<br/>\n",
              "</div>"
            ],
            "text/plain": [
              "Columns:\n",
              "\tquery_label\tint\n",
              "\treference_label\tstr\n",
              "\tdistance\tfloat\n",
              "\trank\tint\n",
              "\n",
              "Rows: 5\n",
              "\n",
              "Data:\n",
              "+-------------+-----------------+--------------------+------+\n",
              "| query_label | reference_label |      distance      | rank |\n",
              "+-------------+-----------------+--------------------+------+\n",
              "|      0      |    Elton John   |        0.0         |  1   |\n",
              "|      0      |   Phil Collins  | 0.7639902676399026 |  2   |\n",
              "|      0      |   Rod Stewart   | 0.7733333333333333 |  3   |\n",
              "|      0      |   Annie Lennox  | 0.7766233766233767 |  4   |\n",
              "|      0      |    Barry Gibb   | 0.780952380952381  |  5   |\n",
              "+-------------+-----------------+--------------------+------+\n",
              "[5 rows x 4 columns]"
            ]
          },
          "metadata": {},
          "execution_count": 68
        }
      ]
    },
    {
      "cell_type": "markdown",
      "source": [
        "**c) What is the most similar article, other than itself, to the one on ‘Victoria Beckham’ using word count features?**"
      ],
      "metadata": {
        "id": "6i5PsL5C_Ol8"
      }
    },
    {
      "cell_type": "code",
      "source": [
        "wordcounts_model.query(victoria_beckham)"
      ],
      "metadata": {
        "colab": {
          "base_uri": "https://localhost:8080/",
          "height": 274
        },
        "id": "Mr5oxWSQ_QNi",
        "outputId": "4918a788-35a9-4434-93b2-c768fb802430"
      },
      "execution_count": null,
      "outputs": [
        {
          "output_type": "display_data",
          "data": {
            "text/html": [
              "<pre>Starting pairwise querying.</pre>"
            ],
            "text/plain": [
              "Starting pairwise querying."
            ]
          },
          "metadata": {}
        },
        {
          "output_type": "display_data",
          "data": {
            "text/html": [
              "<pre>+--------------+---------+-------------+--------------+</pre>"
            ],
            "text/plain": [
              "+--------------+---------+-------------+--------------+"
            ]
          },
          "metadata": {}
        },
        {
          "output_type": "display_data",
          "data": {
            "text/html": [
              "<pre>| Query points | # Pairs | % Complete. | Elapsed Time |</pre>"
            ],
            "text/plain": [
              "| Query points | # Pairs | % Complete. | Elapsed Time |"
            ]
          },
          "metadata": {}
        },
        {
          "output_type": "display_data",
          "data": {
            "text/html": [
              "<pre>+--------------+---------+-------------+--------------+</pre>"
            ],
            "text/plain": [
              "+--------------+---------+-------------+--------------+"
            ]
          },
          "metadata": {}
        },
        {
          "output_type": "display_data",
          "data": {
            "text/html": [
              "<pre>| 0            | 1       | 0.00169288  | 12.048ms     |</pre>"
            ],
            "text/plain": [
              "| 0            | 1       | 0.00169288  | 12.048ms     |"
            ]
          },
          "metadata": {}
        },
        {
          "output_type": "display_data",
          "data": {
            "text/html": [
              "<pre>| Done         |         | 100         | 445.173ms    |</pre>"
            ],
            "text/plain": [
              "| Done         |         | 100         | 445.173ms    |"
            ]
          },
          "metadata": {}
        },
        {
          "output_type": "display_data",
          "data": {
            "text/html": [
              "<pre>+--------------+---------+-------------+--------------+</pre>"
            ],
            "text/plain": [
              "+--------------+---------+-------------+--------------+"
            ]
          },
          "metadata": {}
        },
        {
          "output_type": "execute_result",
          "data": {
            "text/html": [
              "<div style=\"max-height:1000px;max-width:1500px;overflow:auto;\"><table frame=\"box\" rules=\"cols\">\n",
              "    <tr>\n",
              "        <th style=\"padding-left: 1em; padding-right: 1em; text-align: center\">query_label</th>\n",
              "        <th style=\"padding-left: 1em; padding-right: 1em; text-align: center\">reference_label</th>\n",
              "        <th style=\"padding-left: 1em; padding-right: 1em; text-align: center\">distance</th>\n",
              "        <th style=\"padding-left: 1em; padding-right: 1em; text-align: center\">rank</th>\n",
              "    </tr>\n",
              "    <tr>\n",
              "        <td style=\"padding-left: 1em; padding-right: 1em; text-align: center; vertical-align: top\">0</td>\n",
              "        <td style=\"padding-left: 1em; padding-right: 1em; text-align: center; vertical-align: top\">Victoria Beckham</td>\n",
              "        <td style=\"padding-left: 1em; padding-right: 1em; text-align: center; vertical-align: top\">0.0</td>\n",
              "        <td style=\"padding-left: 1em; padding-right: 1em; text-align: center; vertical-align: top\">1</td>\n",
              "    </tr>\n",
              "    <tr>\n",
              "        <td style=\"padding-left: 1em; padding-right: 1em; text-align: center; vertical-align: top\">0</td>\n",
              "        <td style=\"padding-left: 1em; padding-right: 1em; text-align: center; vertical-align: top\">Cheryl Cole</td>\n",
              "        <td style=\"padding-left: 1em; padding-right: 1em; text-align: center; vertical-align: top\">0.8005865102639296</td>\n",
              "        <td style=\"padding-left: 1em; padding-right: 1em; text-align: center; vertical-align: top\">2</td>\n",
              "    </tr>\n",
              "    <tr>\n",
              "        <td style=\"padding-left: 1em; padding-right: 1em; text-align: center; vertical-align: top\">0</td>\n",
              "        <td style=\"padding-left: 1em; padding-right: 1em; text-align: center; vertical-align: top\">Heidi Klum</td>\n",
              "        <td style=\"padding-left: 1em; padding-right: 1em; text-align: center; vertical-align: top\">0.8103448275862069</td>\n",
              "        <td style=\"padding-left: 1em; padding-right: 1em; text-align: center; vertical-align: top\">3</td>\n",
              "    </tr>\n",
              "    <tr>\n",
              "        <td style=\"padding-left: 1em; padding-right: 1em; text-align: center; vertical-align: top\">0</td>\n",
              "        <td style=\"padding-left: 1em; padding-right: 1em; text-align: center; vertical-align: top\">Simon Fuller</td>\n",
              "        <td style=\"padding-left: 1em; padding-right: 1em; text-align: center; vertical-align: top\">0.822742474916388</td>\n",
              "        <td style=\"padding-left: 1em; padding-right: 1em; text-align: center; vertical-align: top\">4</td>\n",
              "    </tr>\n",
              "    <tr>\n",
              "        <td style=\"padding-left: 1em; padding-right: 1em; text-align: center; vertical-align: top\">0</td>\n",
              "        <td style=\"padding-left: 1em; padding-right: 1em; text-align: center; vertical-align: top\">Adele</td>\n",
              "        <td style=\"padding-left: 1em; padding-right: 1em; text-align: center; vertical-align: top\">0.8249158249158249</td>\n",
              "        <td style=\"padding-left: 1em; padding-right: 1em; text-align: center; vertical-align: top\">5</td>\n",
              "    </tr>\n",
              "</table>\n",
              "[5 rows x 4 columns]<br/>\n",
              "</div>"
            ],
            "text/plain": [
              "Columns:\n",
              "\tquery_label\tint\n",
              "\treference_label\tstr\n",
              "\tdistance\tfloat\n",
              "\trank\tint\n",
              "\n",
              "Rows: 5\n",
              "\n",
              "Data:\n",
              "+-------------+------------------+--------------------+------+\n",
              "| query_label | reference_label  |      distance      | rank |\n",
              "+-------------+------------------+--------------------+------+\n",
              "|      0      | Victoria Beckham |        0.0         |  1   |\n",
              "|      0      |   Cheryl Cole    | 0.8005865102639296 |  2   |\n",
              "|      0      |    Heidi Klum    | 0.8103448275862069 |  3   |\n",
              "|      0      |   Simon Fuller   | 0.822742474916388  |  4   |\n",
              "|      0      |      Adele       | 0.8249158249158249 |  5   |\n",
              "+-------------+------------------+--------------------+------+\n",
              "[5 rows x 4 columns]"
            ]
          },
          "metadata": {},
          "execution_count": 61
        }
      ]
    },
    {
      "cell_type": "markdown",
      "source": [
        "**d) What is the most similar article, other than itself, to the one on ‘Victoria Beckham’ using TF-IDF features?**"
      ],
      "metadata": {
        "id": "RFzf6qRv_Yu5"
      }
    },
    {
      "cell_type": "code",
      "source": [
        "tfidf_model.query(victoria_beckham)"
      ],
      "metadata": {
        "colab": {
          "base_uri": "https://localhost:8080/",
          "height": 274
        },
        "id": "3jtp1DSn_ct5",
        "outputId": "5d796046-549f-44e4-e20e-53221b256f26"
      },
      "execution_count": null,
      "outputs": [
        {
          "output_type": "display_data",
          "data": {
            "text/html": [
              "<pre>Starting pairwise querying.</pre>"
            ],
            "text/plain": [
              "Starting pairwise querying."
            ]
          },
          "metadata": {}
        },
        {
          "output_type": "display_data",
          "data": {
            "text/html": [
              "<pre>+--------------+---------+-------------+--------------+</pre>"
            ],
            "text/plain": [
              "+--------------+---------+-------------+--------------+"
            ]
          },
          "metadata": {}
        },
        {
          "output_type": "display_data",
          "data": {
            "text/html": [
              "<pre>| Query points | # Pairs | % Complete. | Elapsed Time |</pre>"
            ],
            "text/plain": [
              "| Query points | # Pairs | % Complete. | Elapsed Time |"
            ]
          },
          "metadata": {}
        },
        {
          "output_type": "display_data",
          "data": {
            "text/html": [
              "<pre>+--------------+---------+-------------+--------------+</pre>"
            ],
            "text/plain": [
              "+--------------+---------+-------------+--------------+"
            ]
          },
          "metadata": {}
        },
        {
          "output_type": "display_data",
          "data": {
            "text/html": [
              "<pre>| 0            | 1       | 0.00169288  | 15.081ms     |</pre>"
            ],
            "text/plain": [
              "| 0            | 1       | 0.00169288  | 15.081ms     |"
            ]
          },
          "metadata": {}
        },
        {
          "output_type": "display_data",
          "data": {
            "text/html": [
              "<pre>| Done         |         | 100         | 504.108ms    |</pre>"
            ],
            "text/plain": [
              "| Done         |         | 100         | 504.108ms    |"
            ]
          },
          "metadata": {}
        },
        {
          "output_type": "display_data",
          "data": {
            "text/html": [
              "<pre>+--------------+---------+-------------+--------------+</pre>"
            ],
            "text/plain": [
              "+--------------+---------+-------------+--------------+"
            ]
          },
          "metadata": {}
        },
        {
          "output_type": "execute_result",
          "data": {
            "text/html": [
              "<div style=\"max-height:1000px;max-width:1500px;overflow:auto;\"><table frame=\"box\" rules=\"cols\">\n",
              "    <tr>\n",
              "        <th style=\"padding-left: 1em; padding-right: 1em; text-align: center\">query_label</th>\n",
              "        <th style=\"padding-left: 1em; padding-right: 1em; text-align: center\">reference_label</th>\n",
              "        <th style=\"padding-left: 1em; padding-right: 1em; text-align: center\">distance</th>\n",
              "        <th style=\"padding-left: 1em; padding-right: 1em; text-align: center\">rank</th>\n",
              "    </tr>\n",
              "    <tr>\n",
              "        <td style=\"padding-left: 1em; padding-right: 1em; text-align: center; vertical-align: top\">0</td>\n",
              "        <td style=\"padding-left: 1em; padding-right: 1em; text-align: center; vertical-align: top\">Victoria Beckham</td>\n",
              "        <td style=\"padding-left: 1em; padding-right: 1em; text-align: center; vertical-align: top\">0.0</td>\n",
              "        <td style=\"padding-left: 1em; padding-right: 1em; text-align: center; vertical-align: top\">1</td>\n",
              "    </tr>\n",
              "    <tr>\n",
              "        <td style=\"padding-left: 1em; padding-right: 1em; text-align: center; vertical-align: top\">0</td>\n",
              "        <td style=\"padding-left: 1em; padding-right: 1em; text-align: center; vertical-align: top\">Cheryl Cole</td>\n",
              "        <td style=\"padding-left: 1em; padding-right: 1em; text-align: center; vertical-align: top\">0.8005865102639296</td>\n",
              "        <td style=\"padding-left: 1em; padding-right: 1em; text-align: center; vertical-align: top\">2</td>\n",
              "    </tr>\n",
              "    <tr>\n",
              "        <td style=\"padding-left: 1em; padding-right: 1em; text-align: center; vertical-align: top\">0</td>\n",
              "        <td style=\"padding-left: 1em; padding-right: 1em; text-align: center; vertical-align: top\">Heidi Klum</td>\n",
              "        <td style=\"padding-left: 1em; padding-right: 1em; text-align: center; vertical-align: top\">0.8103448275862069</td>\n",
              "        <td style=\"padding-left: 1em; padding-right: 1em; text-align: center; vertical-align: top\">3</td>\n",
              "    </tr>\n",
              "    <tr>\n",
              "        <td style=\"padding-left: 1em; padding-right: 1em; text-align: center; vertical-align: top\">0</td>\n",
              "        <td style=\"padding-left: 1em; padding-right: 1em; text-align: center; vertical-align: top\">Simon Fuller</td>\n",
              "        <td style=\"padding-left: 1em; padding-right: 1em; text-align: center; vertical-align: top\">0.822742474916388</td>\n",
              "        <td style=\"padding-left: 1em; padding-right: 1em; text-align: center; vertical-align: top\">4</td>\n",
              "    </tr>\n",
              "    <tr>\n",
              "        <td style=\"padding-left: 1em; padding-right: 1em; text-align: center; vertical-align: top\">0</td>\n",
              "        <td style=\"padding-left: 1em; padding-right: 1em; text-align: center; vertical-align: top\">Adele</td>\n",
              "        <td style=\"padding-left: 1em; padding-right: 1em; text-align: center; vertical-align: top\">0.8249158249158249</td>\n",
              "        <td style=\"padding-left: 1em; padding-right: 1em; text-align: center; vertical-align: top\">5</td>\n",
              "    </tr>\n",
              "</table>\n",
              "[5 rows x 4 columns]<br/>\n",
              "</div>"
            ],
            "text/plain": [
              "Columns:\n",
              "\tquery_label\tint\n",
              "\treference_label\tstr\n",
              "\tdistance\tfloat\n",
              "\trank\tint\n",
              "\n",
              "Rows: 5\n",
              "\n",
              "Data:\n",
              "+-------------+------------------+--------------------+------+\n",
              "| query_label | reference_label  |      distance      | rank |\n",
              "+-------------+------------------+--------------------+------+\n",
              "|      0      | Victoria Beckham |        0.0         |  1   |\n",
              "|      0      |   Cheryl Cole    | 0.8005865102639296 |  2   |\n",
              "|      0      |    Heidi Klum    | 0.8103448275862069 |  3   |\n",
              "|      0      |   Simon Fuller   | 0.822742474916388  |  4   |\n",
              "|      0      |      Adele       | 0.8249158249158249 |  5   |\n",
              "+-------------+------------------+--------------------+------+\n",
              "[5 rows x 4 columns]"
            ]
          },
          "metadata": {},
          "execution_count": 62
        }
      ]
    }
  ]
}